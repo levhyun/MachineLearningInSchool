{
  "cells": [
    {
      "cell_type": "markdown",
      "metadata": {
        "colab_type": "text",
        "id": "view-in-github"
      },
      "source": [
        "<a href=\"https://colab.research.google.com/github/levhyun/MachineLearningInSchool/blob/main/2023.04.11/2023_04_11.ipynb\" target=\"_parent\"><img src=\"https://colab.research.google.com/assets/colab-badge.svg\" alt=\"Open In Colab\"/></a>"
      ]
    },
    {
      "cell_type": "code",
      "execution_count": 1,
      "metadata": {
        "colab": {
          "base_uri": "https://localhost:8080/",
          "height": 110
        },
        "id": "ekKxdHSf0WbX",
        "outputId": "f3aed4ff-eea0-4852-a2da-31aeae91cf4b"
      },
      "outputs": [
        {
          "name": "stderr",
          "output_type": "stream",
          "text": [
            "Downloading...\n",
            "From: https://bit.ly/3736JW1\n",
            "To: c:\\Users\\g8808\\Documents\\GitHub\\MachineLearningInSchool\\2023.04.11\\ns_book6.csv\n",
            "100%|██████████| 55.0M/55.0M [00:07<00:00, 7.17MB/s]\n"
          ]
        },
        {
          "data": {
            "text/plain": [
              "'ns_book6.csv'"
            ]
          },
          "execution_count": 1,
          "metadata": {},
          "output_type": "execute_result"
        }
      ],
      "source": [
        "import gdown\n",
        "gdown.download('https://bit.ly/3736JW1', 'ns_book6.csv', quiet=False)"
      ]
    },
    {
      "cell_type": "code",
      "execution_count": 2,
      "metadata": {
        "colab": {
          "base_uri": "https://localhost:8080/",
          "height": 206
        },
        "id": "yeE-9ALy0uKf",
        "outputId": "930d0410-14fe-4d14-b5ab-f4bd3a558f03"
      },
      "outputs": [
        {
          "data": {
            "text/html": [
              "<div>\n",
              "<style scoped>\n",
              "    .dataframe tbody tr th:only-of-type {\n",
              "        vertical-align: middle;\n",
              "    }\n",
              "\n",
              "    .dataframe tbody tr th {\n",
              "        vertical-align: top;\n",
              "    }\n",
              "\n",
              "    .dataframe thead th {\n",
              "        text-align: right;\n",
              "    }\n",
              "</style>\n",
              "<table border=\"1\" class=\"dataframe\">\n",
              "  <thead>\n",
              "    <tr style=\"text-align: right;\">\n",
              "      <th></th>\n",
              "      <th>번호</th>\n",
              "      <th>도서명</th>\n",
              "      <th>저자</th>\n",
              "      <th>출판사</th>\n",
              "      <th>발행년도</th>\n",
              "      <th>ISBN</th>\n",
              "      <th>세트 ISBN</th>\n",
              "      <th>부가기호</th>\n",
              "      <th>권</th>\n",
              "      <th>주제분류번호</th>\n",
              "      <th>도서권수</th>\n",
              "      <th>대출건수</th>\n",
              "      <th>등록일자</th>\n",
              "    </tr>\n",
              "  </thead>\n",
              "  <tbody>\n",
              "    <tr>\n",
              "      <th>0</th>\n",
              "      <td>1</td>\n",
              "      <td>인공지능과 흙</td>\n",
              "      <td>김동훈 지음</td>\n",
              "      <td>민음사</td>\n",
              "      <td>2021.0</td>\n",
              "      <td>9788937444319</td>\n",
              "      <td>NaN</td>\n",
              "      <td>NaN</td>\n",
              "      <td>NaN</td>\n",
              "      <td>NaN</td>\n",
              "      <td>1</td>\n",
              "      <td>0</td>\n",
              "      <td>2021-03-19</td>\n",
              "    </tr>\n",
              "    <tr>\n",
              "      <th>1</th>\n",
              "      <td>2</td>\n",
              "      <td>가짜 행복 권하는 사회</td>\n",
              "      <td>김태형 지음</td>\n",
              "      <td>갈매나무</td>\n",
              "      <td>2021.0</td>\n",
              "      <td>9791190123969</td>\n",
              "      <td>NaN</td>\n",
              "      <td>NaN</td>\n",
              "      <td>NaN</td>\n",
              "      <td>NaN</td>\n",
              "      <td>1</td>\n",
              "      <td>0</td>\n",
              "      <td>2021-03-19</td>\n",
              "    </tr>\n",
              "    <tr>\n",
              "      <th>2</th>\n",
              "      <td>3</td>\n",
              "      <td>나도 한 문장 잘 쓰면 바랄 게 없겠네</td>\n",
              "      <td>김선영 지음</td>\n",
              "      <td>블랙피쉬</td>\n",
              "      <td>2021.0</td>\n",
              "      <td>9788968332982</td>\n",
              "      <td>NaN</td>\n",
              "      <td>NaN</td>\n",
              "      <td>NaN</td>\n",
              "      <td>NaN</td>\n",
              "      <td>1</td>\n",
              "      <td>0</td>\n",
              "      <td>2021-03-19</td>\n",
              "    </tr>\n",
              "    <tr>\n",
              "      <th>3</th>\n",
              "      <td>4</td>\n",
              "      <td>예루살렘 해변</td>\n",
              "      <td>이도 게펜 지음, 임재희 옮김</td>\n",
              "      <td>문학세계사</td>\n",
              "      <td>2021.0</td>\n",
              "      <td>9788970759906</td>\n",
              "      <td>NaN</td>\n",
              "      <td>NaN</td>\n",
              "      <td>NaN</td>\n",
              "      <td>NaN</td>\n",
              "      <td>1</td>\n",
              "      <td>0</td>\n",
              "      <td>2021-03-19</td>\n",
              "    </tr>\n",
              "    <tr>\n",
              "      <th>4</th>\n",
              "      <td>5</td>\n",
              "      <td>김성곤의 중국한시기행 : 장강·황하 편</td>\n",
              "      <td>김성곤 지음</td>\n",
              "      <td>김영사</td>\n",
              "      <td>2021.0</td>\n",
              "      <td>9788934990833</td>\n",
              "      <td>NaN</td>\n",
              "      <td>NaN</td>\n",
              "      <td>NaN</td>\n",
              "      <td>NaN</td>\n",
              "      <td>1</td>\n",
              "      <td>0</td>\n",
              "      <td>2021-03-19</td>\n",
              "    </tr>\n",
              "  </tbody>\n",
              "</table>\n",
              "</div>"
            ],
            "text/plain": [
              "   번호                    도서명                저자    출판사    발행년도           ISBN  \\\n",
              "0   1                인공지능과 흙            김동훈 지음    민음사  2021.0  9788937444319   \n",
              "1   2           가짜 행복 권하는 사회            김태형 지음   갈매나무  2021.0  9791190123969   \n",
              "2   3  나도 한 문장 잘 쓰면 바랄 게 없겠네            김선영 지음   블랙피쉬  2021.0  9788968332982   \n",
              "3   4                예루살렘 해변  이도 게펜 지음, 임재희 옮김  문학세계사  2021.0  9788970759906   \n",
              "4   5  김성곤의 중국한시기행 : 장강·황하 편            김성곤 지음    김영사  2021.0  9788934990833   \n",
              "\n",
              "  세트 ISBN 부가기호    권 주제분류번호  도서권수  대출건수        등록일자  \n",
              "0     NaN  NaN  NaN    NaN     1     0  2021-03-19  \n",
              "1     NaN  NaN  NaN    NaN     1     0  2021-03-19  \n",
              "2     NaN  NaN  NaN    NaN     1     0  2021-03-19  \n",
              "3     NaN  NaN  NaN    NaN     1     0  2021-03-19  \n",
              "4     NaN  NaN  NaN    NaN     1     0  2021-03-19  "
            ]
          },
          "execution_count": 2,
          "metadata": {},
          "output_type": "execute_result"
        }
      ],
      "source": [
        "import pandas as pd\n",
        "ns_book6 = pd.read_csv('ns_book6.csv', low_memory=False)\n",
        "ns_book6.head()"
      ]
    },
    {
      "cell_type": "code",
      "execution_count": 3,
      "metadata": {
        "colab": {
          "base_uri": "https://localhost:8080/"
        },
        "id": "_Im033Yx2e4k",
        "outputId": "7257ea49-248e-49a0-f1df-d0eb69ed01da"
      },
      "outputs": [
        {
          "data": {
            "text/plain": [
              "3206"
            ]
          },
          "execution_count": 3,
          "metadata": {},
          "output_type": "execute_result"
        }
      ],
      "source": [
        "sum(ns_book6['도서권수']==0)"
      ]
    },
    {
      "cell_type": "code",
      "execution_count": 4,
      "metadata": {
        "colab": {
          "base_uri": "https://localhost:8080/",
          "height": 300
        },
        "id": "T6c2CHkZ2e7e",
        "outputId": "b3a863e4-e8ff-4982-d150-6ea323a774f1"
      },
      "outputs": [
        {
          "data": {
            "text/html": [
              "<div>\n",
              "<style scoped>\n",
              "    .dataframe tbody tr th:only-of-type {\n",
              "        vertical-align: middle;\n",
              "    }\n",
              "\n",
              "    .dataframe tbody tr th {\n",
              "        vertical-align: top;\n",
              "    }\n",
              "\n",
              "    .dataframe thead th {\n",
              "        text-align: right;\n",
              "    }\n",
              "</style>\n",
              "<table border=\"1\" class=\"dataframe\">\n",
              "  <thead>\n",
              "    <tr style=\"text-align: right;\">\n",
              "      <th></th>\n",
              "      <th>번호</th>\n",
              "      <th>발행년도</th>\n",
              "      <th>도서권수</th>\n",
              "      <th>대출건수</th>\n",
              "    </tr>\n",
              "  </thead>\n",
              "  <tbody>\n",
              "    <tr>\n",
              "      <th>count</th>\n",
              "      <td>376770.000000</td>\n",
              "      <td>376770.000000</td>\n",
              "      <td>376770.000000</td>\n",
              "      <td>376770.000000</td>\n",
              "    </tr>\n",
              "    <tr>\n",
              "      <th>mean</th>\n",
              "      <td>202977.476649</td>\n",
              "      <td>2008.460076</td>\n",
              "      <td>1.145540</td>\n",
              "      <td>11.593439</td>\n",
              "    </tr>\n",
              "    <tr>\n",
              "      <th>std</th>\n",
              "      <td>115298.245784</td>\n",
              "      <td>8.773148</td>\n",
              "      <td>0.473853</td>\n",
              "      <td>19.279409</td>\n",
              "    </tr>\n",
              "    <tr>\n",
              "      <th>min</th>\n",
              "      <td>1.000000</td>\n",
              "      <td>1947.000000</td>\n",
              "      <td>1.000000</td>\n",
              "      <td>0.000000</td>\n",
              "    </tr>\n",
              "    <tr>\n",
              "      <th>25%</th>\n",
              "      <td>104488.250000</td>\n",
              "      <td>2003.000000</td>\n",
              "      <td>1.000000</td>\n",
              "      <td>2.000000</td>\n",
              "    </tr>\n",
              "    <tr>\n",
              "      <th>50%</th>\n",
              "      <td>204550.500000</td>\n",
              "      <td>2009.000000</td>\n",
              "      <td>1.000000</td>\n",
              "      <td>6.000000</td>\n",
              "    </tr>\n",
              "    <tr>\n",
              "      <th>75%</th>\n",
              "      <td>302346.750000</td>\n",
              "      <td>2015.000000</td>\n",
              "      <td>1.000000</td>\n",
              "      <td>14.000000</td>\n",
              "    </tr>\n",
              "    <tr>\n",
              "      <th>max</th>\n",
              "      <td>401681.000000</td>\n",
              "      <td>2650.000000</td>\n",
              "      <td>40.000000</td>\n",
              "      <td>1765.000000</td>\n",
              "    </tr>\n",
              "  </tbody>\n",
              "</table>\n",
              "</div>"
            ],
            "text/plain": [
              "                  번호           발행년도           도서권수           대출건수\n",
              "count  376770.000000  376770.000000  376770.000000  376770.000000\n",
              "mean   202977.476649    2008.460076       1.145540      11.593439\n",
              "std    115298.245784       8.773148       0.473853      19.279409\n",
              "min         1.000000    1947.000000       1.000000       0.000000\n",
              "25%    104488.250000    2003.000000       1.000000       2.000000\n",
              "50%    204550.500000    2009.000000       1.000000       6.000000\n",
              "75%    302346.750000    2015.000000       1.000000      14.000000\n",
              "max    401681.000000    2650.000000      40.000000    1765.000000"
            ]
          },
          "execution_count": 4,
          "metadata": {},
          "output_type": "execute_result"
        }
      ],
      "source": [
        "ns_book7 = ns_book6[ns_book6['도서권수']>0]\n",
        "ns_book7.describe()"
      ]
    },
    {
      "cell_type": "code",
      "execution_count": 5,
      "metadata": {
        "colab": {
          "base_uri": "https://localhost:8080/",
          "height": 331
        },
        "id": "jW5DUfat2e-I",
        "outputId": "53b4c247-5c29-4279-bebc-4b205c88a5a8"
      },
      "outputs": [
        {
          "data": {
            "text/html": [
              "<div>\n",
              "<style scoped>\n",
              "    .dataframe tbody tr th:only-of-type {\n",
              "        vertical-align: middle;\n",
              "    }\n",
              "\n",
              "    .dataframe tbody tr th {\n",
              "        vertical-align: top;\n",
              "    }\n",
              "\n",
              "    .dataframe thead th {\n",
              "        text-align: right;\n",
              "    }\n",
              "</style>\n",
              "<table border=\"1\" class=\"dataframe\">\n",
              "  <thead>\n",
              "    <tr style=\"text-align: right;\">\n",
              "      <th></th>\n",
              "      <th>번호</th>\n",
              "      <th>발행년도</th>\n",
              "      <th>도서권수</th>\n",
              "      <th>대출건수</th>\n",
              "    </tr>\n",
              "  </thead>\n",
              "  <tbody>\n",
              "    <tr>\n",
              "      <th>count</th>\n",
              "      <td>376770.000000</td>\n",
              "      <td>376770.000000</td>\n",
              "      <td>376770.000000</td>\n",
              "      <td>376770.000000</td>\n",
              "    </tr>\n",
              "    <tr>\n",
              "      <th>mean</th>\n",
              "      <td>202977.476649</td>\n",
              "      <td>2008.460076</td>\n",
              "      <td>1.145540</td>\n",
              "      <td>11.593439</td>\n",
              "    </tr>\n",
              "    <tr>\n",
              "      <th>std</th>\n",
              "      <td>115298.245784</td>\n",
              "      <td>8.773148</td>\n",
              "      <td>0.473853</td>\n",
              "      <td>19.279409</td>\n",
              "    </tr>\n",
              "    <tr>\n",
              "      <th>min</th>\n",
              "      <td>1.000000</td>\n",
              "      <td>1947.000000</td>\n",
              "      <td>1.000000</td>\n",
              "      <td>0.000000</td>\n",
              "    </tr>\n",
              "    <tr>\n",
              "      <th>30%</th>\n",
              "      <td>124649.700000</td>\n",
              "      <td>2004.000000</td>\n",
              "      <td>1.000000</td>\n",
              "      <td>2.000000</td>\n",
              "    </tr>\n",
              "    <tr>\n",
              "      <th>50%</th>\n",
              "      <td>204550.500000</td>\n",
              "      <td>2009.000000</td>\n",
              "      <td>1.000000</td>\n",
              "      <td>6.000000</td>\n",
              "    </tr>\n",
              "    <tr>\n",
              "      <th>60%</th>\n",
              "      <td>243537.400000</td>\n",
              "      <td>2011.000000</td>\n",
              "      <td>1.000000</td>\n",
              "      <td>8.000000</td>\n",
              "    </tr>\n",
              "    <tr>\n",
              "      <th>90%</th>\n",
              "      <td>361341.100000</td>\n",
              "      <td>2018.000000</td>\n",
              "      <td>2.000000</td>\n",
              "      <td>28.000000</td>\n",
              "    </tr>\n",
              "    <tr>\n",
              "      <th>max</th>\n",
              "      <td>401681.000000</td>\n",
              "      <td>2650.000000</td>\n",
              "      <td>40.000000</td>\n",
              "      <td>1765.000000</td>\n",
              "    </tr>\n",
              "  </tbody>\n",
              "</table>\n",
              "</div>"
            ],
            "text/plain": [
              "                  번호           발행년도           도서권수           대출건수\n",
              "count  376770.000000  376770.000000  376770.000000  376770.000000\n",
              "mean   202977.476649    2008.460076       1.145540      11.593439\n",
              "std    115298.245784       8.773148       0.473853      19.279409\n",
              "min         1.000000    1947.000000       1.000000       0.000000\n",
              "30%    124649.700000    2004.000000       1.000000       2.000000\n",
              "50%    204550.500000    2009.000000       1.000000       6.000000\n",
              "60%    243537.400000    2011.000000       1.000000       8.000000\n",
              "90%    361341.100000    2018.000000       2.000000      28.000000\n",
              "max    401681.000000    2650.000000      40.000000    1765.000000"
            ]
          },
          "execution_count": 5,
          "metadata": {},
          "output_type": "execute_result"
        }
      ],
      "source": [
        "ns_book7.describe(percentiles=[0.3,0.6,0.9])"
      ]
    },
    {
      "cell_type": "code",
      "execution_count": 6,
      "metadata": {
        "colab": {
          "base_uri": "https://localhost:8080/",
          "height": 174
        },
        "id": "a1bkYLGE2fA0",
        "outputId": "8b94c089-884a-4bfb-fe7f-0de2c048d152"
      },
      "outputs": [
        {
          "data": {
            "text/html": [
              "<div>\n",
              "<style scoped>\n",
              "    .dataframe tbody tr th:only-of-type {\n",
              "        vertical-align: middle;\n",
              "    }\n",
              "\n",
              "    .dataframe tbody tr th {\n",
              "        vertical-align: top;\n",
              "    }\n",
              "\n",
              "    .dataframe thead th {\n",
              "        text-align: right;\n",
              "    }\n",
              "</style>\n",
              "<table border=\"1\" class=\"dataframe\">\n",
              "  <thead>\n",
              "    <tr style=\"text-align: right;\">\n",
              "      <th></th>\n",
              "      <th>도서명</th>\n",
              "      <th>저자</th>\n",
              "      <th>출판사</th>\n",
              "      <th>ISBN</th>\n",
              "      <th>세트 ISBN</th>\n",
              "      <th>부가기호</th>\n",
              "      <th>권</th>\n",
              "      <th>주제분류번호</th>\n",
              "      <th>등록일자</th>\n",
              "    </tr>\n",
              "  </thead>\n",
              "  <tbody>\n",
              "    <tr>\n",
              "      <th>count</th>\n",
              "      <td>376770</td>\n",
              "      <td>376770</td>\n",
              "      <td>376770</td>\n",
              "      <td>376770</td>\n",
              "      <td>55866</td>\n",
              "      <td>308252</td>\n",
              "      <td>61793</td>\n",
              "      <td>359792</td>\n",
              "      <td>376770</td>\n",
              "    </tr>\n",
              "    <tr>\n",
              "      <th>unique</th>\n",
              "      <td>336408</td>\n",
              "      <td>248850</td>\n",
              "      <td>21875</td>\n",
              "      <td>350810</td>\n",
              "      <td>14875</td>\n",
              "      <td>17</td>\n",
              "      <td>834</td>\n",
              "      <td>12467</td>\n",
              "      <td>4562</td>\n",
              "    </tr>\n",
              "    <tr>\n",
              "      <th>top</th>\n",
              "      <td>승정원일기</td>\n",
              "      <td>세종대왕기념사업회 [편]</td>\n",
              "      <td>문학동네</td>\n",
              "      <td>9788937430299</td>\n",
              "      <td>9788937460005</td>\n",
              "      <td>0</td>\n",
              "      <td>1</td>\n",
              "      <td>813.6</td>\n",
              "      <td>1970-01-01</td>\n",
              "    </tr>\n",
              "    <tr>\n",
              "      <th>freq</th>\n",
              "      <td>250</td>\n",
              "      <td>303</td>\n",
              "      <td>4410</td>\n",
              "      <td>206</td>\n",
              "      <td>702</td>\n",
              "      <td>158235</td>\n",
              "      <td>13282</td>\n",
              "      <td>14816</td>\n",
              "      <td>28185</td>\n",
              "    </tr>\n",
              "  </tbody>\n",
              "</table>\n",
              "</div>"
            ],
            "text/plain": [
              "           도서명             저자     출판사           ISBN        세트 ISBN    부가기호  \\\n",
              "count   376770         376770  376770         376770          55866  308252   \n",
              "unique  336408         248850   21875         350810          14875      17   \n",
              "top      승정원일기  세종대왕기념사업회 [편]    문학동네  9788937430299  9788937460005       0   \n",
              "freq       250            303    4410            206            702  158235   \n",
              "\n",
              "            권  주제분류번호        등록일자  \n",
              "count   61793  359792      376770  \n",
              "unique    834   12467        4562  \n",
              "top         1   813.6  1970-01-01  \n",
              "freq    13282   14816       28185  "
            ]
          },
          "execution_count": 6,
          "metadata": {},
          "output_type": "execute_result"
        }
      ],
      "source": [
        "ns_book7.describe(include='object')"
      ]
    },
    {
      "cell_type": "code",
      "execution_count": 7,
      "metadata": {
        "colab": {
          "base_uri": "https://localhost:8080/"
        },
        "id": "dQPumdIC3r5Z",
        "outputId": "7408001b-09ca-4281-f305-f6f0604995b4"
      },
      "outputs": [
        {
          "data": {
            "text/plain": [
              "20.0"
            ]
          },
          "execution_count": 7,
          "metadata": {},
          "output_type": "execute_result"
        }
      ],
      "source": [
        "x = [10,20,30]\n",
        "avg = sum(x) / len(x)\n",
        "avg"
      ]
    },
    {
      "cell_type": "code",
      "execution_count": 8,
      "metadata": {
        "colab": {
          "base_uri": "https://localhost:8080/"
        },
        "id": "WdnnwnmM4psP",
        "outputId": "0703f92b-942d-44b2-b28e-35e64f6f87ff"
      },
      "outputs": [
        {
          "data": {
            "text/plain": [
              "11.593438968070707"
            ]
          },
          "execution_count": 8,
          "metadata": {},
          "output_type": "execute_result"
        }
      ],
      "source": [
        "ns_book7['대출건수'].mean()"
      ]
    },
    {
      "cell_type": "code",
      "execution_count": 9,
      "metadata": {
        "colab": {
          "base_uri": "https://localhost:8080/"
        },
        "id": "PPkA_lAE4_yP",
        "outputId": "2d78fdd6-e461-445c-bdea-8b938a9735f7"
      },
      "outputs": [
        {
          "data": {
            "text/plain": [
              "6.0"
            ]
          },
          "execution_count": 9,
          "metadata": {},
          "output_type": "execute_result"
        }
      ],
      "source": [
        "ns_book7['대출건수'].median()"
      ]
    },
    {
      "cell_type": "code",
      "execution_count": 10,
      "metadata": {
        "colab": {
          "base_uri": "https://localhost:8080/"
        },
        "id": "N_Gm7R7w4_0u",
        "outputId": "6a034093-39a2-4a37-fec5-43df312c5453"
      },
      "outputs": [
        {
          "data": {
            "text/plain": [
              "0    2.5\n",
              "dtype: float64"
            ]
          },
          "execution_count": 10,
          "metadata": {},
          "output_type": "execute_result"
        }
      ],
      "source": [
        "temp_df = pd.DataFrame([1,2,3,4])\n",
        "temp_df.median()"
      ]
    },
    {
      "cell_type": "code",
      "execution_count": 11,
      "metadata": {
        "colab": {
          "base_uri": "https://localhost:8080/"
        },
        "id": "sgRqfDW94_3T",
        "outputId": "a68761fe-599a-4a75-ee65-c3b8271a7398"
      },
      "outputs": [
        {
          "data": {
            "text/plain": [
              "0    5.0\n",
              "dtype: float64"
            ]
          },
          "execution_count": 11,
          "metadata": {},
          "output_type": "execute_result"
        }
      ],
      "source": [
        "temp_df = pd.DataFrame([1,2,5,10, 20])\n",
        "temp_df.median()"
      ]
    },
    {
      "cell_type": "code",
      "execution_count": 12,
      "metadata": {
        "colab": {
          "base_uri": "https://localhost:8080/"
        },
        "id": "sJ7NdOkI4_5y",
        "outputId": "7e99edc9-3dcc-46d5-e5e6-a6b25a4a4574"
      },
      "outputs": [
        {
          "data": {
            "text/plain": [
              "183.0"
            ]
          },
          "execution_count": 12,
          "metadata": {},
          "output_type": "execute_result"
        }
      ],
      "source": [
        "ns_book7['대출건수'].drop_duplicates().median()"
      ]
    },
    {
      "cell_type": "code",
      "execution_count": 13,
      "metadata": {
        "colab": {
          "base_uri": "https://localhost:8080/"
        },
        "id": "SOHQvtYE5hqx",
        "outputId": "41156c89-328e-4eae-e2b1-3126a9ad280c"
      },
      "outputs": [
        {
          "data": {
            "text/plain": [
              "0"
            ]
          },
          "execution_count": 13,
          "metadata": {},
          "output_type": "execute_result"
        }
      ],
      "source": [
        "ns_book7['대출건수'].min()"
      ]
    },
    {
      "cell_type": "code",
      "execution_count": 14,
      "metadata": {
        "colab": {
          "base_uri": "https://localhost:8080/"
        },
        "id": "t0XSm-X85htt",
        "outputId": "1b806db0-64bf-474b-a4f4-7270b0da48cb"
      },
      "outputs": [
        {
          "data": {
            "text/plain": [
              "1765"
            ]
          },
          "execution_count": 14,
          "metadata": {},
          "output_type": "execute_result"
        }
      ],
      "source": [
        "ns_book7['대출건수'].max()"
      ]
    },
    {
      "cell_type": "code",
      "execution_count": 15,
      "metadata": {
        "colab": {
          "base_uri": "https://localhost:8080/"
        },
        "id": "mqYweQkO6Hez",
        "outputId": "2c22eac5-3cb4-46aa-fad7-ea482322eaa1"
      },
      "outputs": [
        {
          "data": {
            "text/plain": [
              "2.0"
            ]
          },
          "execution_count": 15,
          "metadata": {},
          "output_type": "execute_result"
        }
      ],
      "source": [
        "ns_book6['대출건수'].quantile(0.25)"
      ]
    },
    {
      "cell_type": "code",
      "execution_count": 16,
      "metadata": {
        "colab": {
          "base_uri": "https://localhost:8080/"
        },
        "id": "WJSyiEIo6HhQ",
        "outputId": "f733f5bd-f612-4635-bd44-7ffa191afa5e"
      },
      "outputs": [
        {
          "data": {
            "text/plain": [
              "0.25     2.0\n",
              "0.50     6.0\n",
              "0.75    14.0\n",
              "Name: 대출건수, dtype: float64"
            ]
          },
          "execution_count": 16,
          "metadata": {},
          "output_type": "execute_result"
        }
      ],
      "source": [
        "ns_book6['대출건수'].quantile([0.25,0.5,0.75])"
      ]
    },
    {
      "cell_type": "code",
      "execution_count": 17,
      "metadata": {
        "colab": {
          "base_uri": "https://localhost:8080/"
        },
        "id": "ixsSfCXT6Hj2",
        "outputId": "58cd980a-467a-409e-c1b6-5cdd7fb3b05c"
      },
      "outputs": [
        {
          "data": {
            "text/plain": [
              "4.6"
            ]
          },
          "execution_count": 17,
          "metadata": {},
          "output_type": "execute_result"
        }
      ],
      "source": [
        "pd.Series([1,2,3,4,5]).quantile(0.9)"
      ]
    },
    {
      "cell_type": "code",
      "execution_count": 18,
      "metadata": {
        "colab": {
          "base_uri": "https://localhost:8080/"
        },
        "id": "EF5eQpWy7jP3",
        "outputId": "02b3a965-2d5e-437c-c7f5-ddce16cfc364"
      },
      "outputs": [
        {
          "data": {
            "text/plain": [
              "0.6402712530190833"
            ]
          },
          "execution_count": 18,
          "metadata": {},
          "output_type": "execute_result"
        }
      ],
      "source": [
        "borrow_10_flag = ns_book7['대출건수'] < 10\n",
        "borrow_10_flag.mean()"
      ]
    },
    {
      "cell_type": "code",
      "execution_count": 19,
      "metadata": {
        "colab": {
          "base_uri": "https://localhost:8080/"
        },
        "id": "_QIHNXyN5hxG",
        "outputId": "2cc9475b-6079-4fad-9ccd-c2288db38018"
      },
      "outputs": [
        {
          "data": {
            "text/plain": [
              "241235"
            ]
          },
          "execution_count": 19,
          "metadata": {},
          "output_type": "execute_result"
        }
      ],
      "source": [
        "sum(borrow_10_flag)"
      ]
    },
    {
      "cell_type": "code",
      "execution_count": 20,
      "metadata": {
        "colab": {
          "base_uri": "https://localhost:8080/"
        },
        "id": "H7fCjigY_q5g",
        "outputId": "5beb283a-991e-47eb-c1c3-a1b23b3694fa"
      },
      "outputs": [
        {
          "data": {
            "text/plain": [
              "0.6402712530190833"
            ]
          },
          "execution_count": 20,
          "metadata": {},
          "output_type": "execute_result"
        }
      ],
      "source": [
        "241235 / 376770"
      ]
    },
    {
      "cell_type": "code",
      "execution_count": 21,
      "metadata": {
        "colab": {
          "base_uri": "https://localhost:8080/"
        },
        "id": "zURIn9EP6Hmo",
        "outputId": "7f9e22f0-21f0-4e11-c57a-663557f5b12b"
      },
      "outputs": [
        {
          "data": {
            "text/plain": [
              "10.0"
            ]
          },
          "execution_count": 21,
          "metadata": {},
          "output_type": "execute_result"
        }
      ],
      "source": [
        "ns_book7['대출건수'].quantile(0.65)"
      ]
    },
    {
      "cell_type": "code",
      "execution_count": 22,
      "metadata": {
        "colab": {
          "base_uri": "https://localhost:8080/"
        },
        "id": "7bLlqa-D_72m",
        "outputId": "7994684e-5a64-45b3-8052-3ad1b43cbe30"
      },
      "outputs": [
        {
          "data": {
            "text/plain": [
              "371.6956304306922"
            ]
          },
          "execution_count": 22,
          "metadata": {},
          "output_type": "execute_result"
        }
      ],
      "source": [
        "ns_book7['대출건수'].var()"
      ]
    },
    {
      "cell_type": "code",
      "execution_count": 23,
      "metadata": {
        "colab": {
          "base_uri": "https://localhost:8080/"
        },
        "id": "-D7WDHaD_75W",
        "outputId": "bd94f58c-6564-44b1-c1ea-6399cfeb6f56"
      },
      "outputs": [
        {
          "data": {
            "text/plain": [
              "19.241925726331733"
            ]
          },
          "execution_count": 23,
          "metadata": {},
          "output_type": "execute_result"
        }
      ],
      "source": [
        "ns_book6['대출건수'].std()"
      ]
    },
    {
      "cell_type": "code",
      "execution_count": 45,
      "metadata": {
        "colab": {
          "base_uri": "https://localhost:8080/"
        },
        "id": "AwQYYPy7_78P",
        "outputId": "b66ccc36-8cc2-4b10-95db-a6cfab0831a4"
      },
      "outputs": [
        {
          "data": {
            "text/plain": [
              "19.25343200307804"
            ]
          },
          "execution_count": 45,
          "metadata": {},
          "output_type": "execute_result"
        }
      ],
      "source": [
        "import numpy as np\n",
        "\n",
        "# 표준편차 구하기\n",
        "diff = ns_book7['대출건수'] - ns_book7['대출건수'].mean()\n",
        "np.sqrt(np.sum(diff**2) / len(ns_book7)-1)"
      ]
    },
    {
      "cell_type": "code",
      "execution_count": 25,
      "metadata": {
        "colab": {
          "base_uri": "https://localhost:8080/"
        },
        "id": "SRtzBRYF_7-9",
        "outputId": "7b80b91d-46ee-40d5-8bca-dd50da3fb49b"
      },
      "outputs": [
        {
          "data": {
            "text/plain": [
              "0    승정원일기\n",
              "Name: 도서명, dtype: object"
            ]
          },
          "execution_count": 25,
          "metadata": {},
          "output_type": "execute_result"
        }
      ],
      "source": [
        "ns_book7['도서명'].mode()"
      ]
    },
    {
      "cell_type": "code",
      "execution_count": 26,
      "metadata": {
        "colab": {
          "base_uri": "https://localhost:8080/"
        },
        "id": "OczMRVvk_8B3",
        "outputId": "ee2da757-635e-47fe-9b35-af866121812b"
      },
      "outputs": [
        {
          "data": {
            "text/plain": [
              "0    2012.0\n",
              "Name: 발행년도, dtype: float64"
            ]
          },
          "execution_count": 26,
          "metadata": {},
          "output_type": "execute_result"
        }
      ],
      "source": [
        "ns_book7['발행년도'].mode()"
      ]
    },
    {
      "cell_type": "code",
      "execution_count": 27,
      "metadata": {
        "colab": {
          "base_uri": "https://localhost:8080/"
        },
        "id": "eskBN4wq_9RN",
        "outputId": "6cf336a7-01de-4e1b-d7ea-f2cd56cae78e"
      },
      "outputs": [
        {
          "data": {
            "text/plain": [
              "번호      202977.476649\n",
              "발행년도      2008.460076\n",
              "도서권수         1.145540\n",
              "대출건수        11.593439\n",
              "dtype: float64"
            ]
          },
          "execution_count": 27,
          "metadata": {},
          "output_type": "execute_result"
        }
      ],
      "source": [
        "ns_book7.mean(numeric_only=True)"
      ]
    },
    {
      "cell_type": "code",
      "execution_count": 28,
      "metadata": {
        "colab": {
          "base_uri": "https://localhost:8080/",
          "height": 80
        },
        "id": "eqUoqWAEFRK4",
        "outputId": "d98d9351-1298-41be-817e-11bf40d25826"
      },
      "outputs": [
        {
          "data": {
            "text/html": [
              "<div>\n",
              "<style scoped>\n",
              "    .dataframe tbody tr th:only-of-type {\n",
              "        vertical-align: middle;\n",
              "    }\n",
              "\n",
              "    .dataframe tbody tr th {\n",
              "        vertical-align: top;\n",
              "    }\n",
              "\n",
              "    .dataframe thead th {\n",
              "        text-align: right;\n",
              "    }\n",
              "</style>\n",
              "<table border=\"1\" class=\"dataframe\">\n",
              "  <thead>\n",
              "    <tr style=\"text-align: right;\">\n",
              "      <th></th>\n",
              "      <th>도서명</th>\n",
              "      <th>저자</th>\n",
              "      <th>출판사</th>\n",
              "      <th>발행년도</th>\n",
              "      <th>ISBN</th>\n",
              "      <th>세트 ISBN</th>\n",
              "      <th>부가기호</th>\n",
              "      <th>권</th>\n",
              "      <th>주제분류번호</th>\n",
              "      <th>도서권수</th>\n",
              "      <th>대출건수</th>\n",
              "      <th>등록일자</th>\n",
              "    </tr>\n",
              "  </thead>\n",
              "  <tbody>\n",
              "    <tr>\n",
              "      <th>0</th>\n",
              "      <td>승정원일기</td>\n",
              "      <td>세종대왕기념사업회 [편]</td>\n",
              "      <td>문학동네</td>\n",
              "      <td>2012.0</td>\n",
              "      <td>9788937430299</td>\n",
              "      <td>9788937460005</td>\n",
              "      <td>0</td>\n",
              "      <td>1</td>\n",
              "      <td>813.6</td>\n",
              "      <td>1</td>\n",
              "      <td>0</td>\n",
              "      <td>1970-01-01</td>\n",
              "    </tr>\n",
              "  </tbody>\n",
              "</table>\n",
              "</div>"
            ],
            "text/plain": [
              "     도서명             저자   출판사    발행년도           ISBN        세트 ISBN 부가기호  권  \\\n",
              "0  승정원일기  세종대왕기념사업회 [편]  문학동네  2012.0  9788937430299  9788937460005    0  1   \n",
              "\n",
              "  주제분류번호  도서권수  대출건수        등록일자  \n",
              "0  813.6     1     0  1970-01-01  "
            ]
          },
          "execution_count": 28,
          "metadata": {},
          "output_type": "execute_result"
        }
      ],
      "source": [
        "ns_book7.loc[:, '도서명':].mode()"
      ]
    },
    {
      "cell_type": "code",
      "execution_count": 29,
      "metadata": {
        "id": "IzldRUHFFRNR"
      },
      "outputs": [],
      "source": [
        "ns_book7.to_csv('ns_book7.csv', index=False)"
      ]
    },
    {
      "cell_type": "code",
      "execution_count": 30,
      "metadata": {
        "colab": {
          "base_uri": "https://localhost:8080/"
        },
        "id": "d2ix9wH8Ft9P",
        "outputId": "092da920-bf9a-4b8e-bf84-47276ff0adb4"
      },
      "outputs": [
        {
          "data": {
            "text/plain": [
              "11.593438968070707"
            ]
          },
          "execution_count": 30,
          "metadata": {},
          "output_type": "execute_result"
        }
      ],
      "source": [
        "np.mean(ns_book7['대출건수'])"
      ]
    },
    {
      "cell_type": "code",
      "execution_count": 31,
      "metadata": {
        "colab": {
          "base_uri": "https://localhost:8080/"
        },
        "id": "iDMcMhykFt__",
        "outputId": "eaf5b5a4-4c45-447d-b0d6-62d46ba576b6"
      },
      "outputs": [
        {
          "data": {
            "text/plain": [
              "10.543612175385386"
            ]
          },
          "execution_count": 31,
          "metadata": {},
          "output_type": "execute_result"
        }
      ],
      "source": [
        "np.average(ns_book7['대출건수'], weights=1/ns_book7['도서권수'])"
      ]
    },
    {
      "cell_type": "code",
      "execution_count": 32,
      "metadata": {
        "colab": {
          "base_uri": "https://localhost:8080/"
        },
        "id": "04cbGfA0FuCw",
        "outputId": "f6770dd1-e2e7-4843-98db-2045bad9e38c"
      },
      "outputs": [
        {
          "data": {
            "text/plain": [
              "9.873029861445788"
            ]
          },
          "execution_count": 32,
          "metadata": {},
          "output_type": "execute_result"
        }
      ],
      "source": [
        "np.mean(ns_book7['대출건수']/ns_book7['도서권수'])"
      ]
    },
    {
      "cell_type": "code",
      "execution_count": 33,
      "metadata": {
        "colab": {
          "base_uri": "https://localhost:8080/"
        },
        "id": "0WDEIjLbFuFk",
        "outputId": "97a0f586-fc70-4084-a232-639be52b2c98"
      },
      "outputs": [
        {
          "data": {
            "text/plain": [
              "10.120503701300958"
            ]
          },
          "execution_count": 33,
          "metadata": {},
          "output_type": "execute_result"
        }
      ],
      "source": [
        "ns_book7['대출건수'].sum()/ns_book7['도서권수'].sum()"
      ]
    },
    {
      "cell_type": "code",
      "execution_count": 34,
      "metadata": {
        "colab": {
          "base_uri": "https://localhost:8080/"
        },
        "id": "OOi6Kdx1Gn8e",
        "outputId": "6aedbe45-8124-4dc0-fc2e-13eb9c5c1db8"
      },
      "outputs": [
        {
          "data": {
            "text/plain": [
              "6.0"
            ]
          },
          "execution_count": 34,
          "metadata": {},
          "output_type": "execute_result"
        }
      ],
      "source": [
        "np.median(ns_book7['대출건수'])"
      ]
    },
    {
      "cell_type": "code",
      "execution_count": 35,
      "metadata": {
        "colab": {
          "base_uri": "https://localhost:8080/"
        },
        "id": "iRmly86uGn_K",
        "outputId": "27d33bb1-d930-4c5c-fa3b-888cf2ea92a8"
      },
      "outputs": [
        {
          "data": {
            "text/plain": [
              "0"
            ]
          },
          "execution_count": 35,
          "metadata": {},
          "output_type": "execute_result"
        }
      ],
      "source": [
        "np.min(ns_book7['대출건수'])"
      ]
    },
    {
      "cell_type": "code",
      "execution_count": 36,
      "metadata": {
        "colab": {
          "base_uri": "https://localhost:8080/"
        },
        "id": "w-b0SF5YG2TK",
        "outputId": "ed8a46f0-a669-476d-9aba-33fdb1a7a4a9"
      },
      "outputs": [
        {
          "data": {
            "text/plain": [
              "1765"
            ]
          },
          "execution_count": 36,
          "metadata": {},
          "output_type": "execute_result"
        }
      ],
      "source": [
        "np.max(ns_book7['대출건수'])"
      ]
    },
    {
      "cell_type": "code",
      "execution_count": 37,
      "metadata": {
        "colab": {
          "base_uri": "https://localhost:8080/"
        },
        "id": "9l81eyc5G2WX",
        "outputId": "f6ee4dea-c5e0-4868-a5e8-3e745b9d65ec"
      },
      "outputs": [
        {
          "data": {
            "text/plain": [
              "array([ 2.,  6., 14.])"
            ]
          },
          "execution_count": 37,
          "metadata": {},
          "output_type": "execute_result"
        }
      ],
      "source": [
        "np.quantile(ns_book7['대출건수'], [0.25, 0.5, 0.75])"
      ]
    },
    {
      "cell_type": "code",
      "execution_count": 38,
      "metadata": {
        "colab": {
          "base_uri": "https://localhost:8080/"
        },
        "id": "N0XL_hnHG2ZG",
        "outputId": "25b1e07e-92b8-41ad-e3c2-15a142d1d456"
      },
      "outputs": [
        {
          "data": {
            "text/plain": [
              "371.694643898775"
            ]
          },
          "execution_count": 38,
          "metadata": {},
          "output_type": "execute_result"
        }
      ],
      "source": [
        "np.var(ns_book7['대출건수'])"
      ]
    },
    {
      "cell_type": "code",
      "execution_count": 39,
      "metadata": {
        "colab": {
          "base_uri": "https://localhost:8080/"
        },
        "id": "-PRXcujeHw8T",
        "outputId": "964bb821-76ca-44a7-9209-d0b62ac8b4ea"
      },
      "outputs": [
        {
          "data": {
            "text/plain": [
              "371.6956304306922"
            ]
          },
          "execution_count": 39,
          "metadata": {},
          "output_type": "execute_result"
        }
      ],
      "source": [
        "ns_book7['대출건수'].var()"
      ]
    },
    {
      "cell_type": "code",
      "execution_count": 40,
      "metadata": {
        "id": "yGMD-aCYH0PL"
      },
      "outputs": [
        {
          "data": {
            "text/plain": [
              "371.694643898775"
            ]
          },
          "execution_count": 40,
          "metadata": {},
          "output_type": "execute_result"
        }
      ],
      "source": [
        "ns_book7['대출건수'].var(ddof=0) # 판다스"
      ]
    },
    {
      "cell_type": "code",
      "execution_count": 41,
      "metadata": {
        "id": "AVtyFmJPH0R4"
      },
      "outputs": [
        {
          "data": {
            "text/plain": [
              "371.6956304306922"
            ]
          },
          "execution_count": 41,
          "metadata": {},
          "output_type": "execute_result"
        }
      ],
      "source": [
        "np.var(ns_book7['대출건수'], ddof=1) # 넘파이"
      ]
    },
    {
      "cell_type": "code",
      "execution_count": 42,
      "metadata": {
        "id": "EuWfwa3vH0Uq"
      },
      "outputs": [
        {
          "data": {
            "text/plain": [
              "19.279383908693113"
            ]
          },
          "execution_count": 42,
          "metadata": {},
          "output_type": "execute_result"
        }
      ],
      "source": [
        "np.std(ns_book7['대출건수'])"
      ]
    },
    {
      "cell_type": "code",
      "execution_count": 47,
      "metadata": {
        "id": "3dBHrGhRH0Xa"
      },
      "outputs": [
        {
          "data": {
            "text/plain": [
              "'승정원일기'"
            ]
          },
          "execution_count": 47,
          "metadata": {},
          "output_type": "execute_result"
        }
      ],
      "source": [
        "values, counts = np.unique(ns_book7['도서명'], return_counts=True)\n",
        "max_idx = np.argmax(counts)\n",
        "values[max_idx]"
      ]
    }
  ],
  "metadata": {
    "colab": {
      "authorship_tag": "ABX9TyOz8o3F+4NXckUU8uUsZPmw",
      "include_colab_link": true,
      "provenance": []
    },
    "kernelspec": {
      "display_name": "Python 3",
      "name": "python3"
    },
    "language_info": {
      "name": "python"
    }
  },
  "nbformat": 4,
  "nbformat_minor": 0
}
