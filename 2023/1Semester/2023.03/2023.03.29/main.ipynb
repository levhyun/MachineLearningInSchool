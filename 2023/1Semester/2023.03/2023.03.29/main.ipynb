{
 "cells": [
  {
   "cell_type": "code",
   "execution_count": 10,
   "metadata": {},
   "outputs": [
    {
     "data": {
      "text/html": [
       "<div>\n",
       "<style scoped>\n",
       "    .dataframe tbody tr th:only-of-type {\n",
       "        vertical-align: middle;\n",
       "    }\n",
       "\n",
       "    .dataframe tbody tr th {\n",
       "        vertical-align: top;\n",
       "    }\n",
       "\n",
       "    .dataframe thead th {\n",
       "        text-align: right;\n",
       "    }\n",
       "</style>\n",
       "<table border=\"1\" class=\"dataframe\">\n",
       "  <thead>\n",
       "    <tr style=\"text-align: right;\">\n",
       "      <th></th>\n",
       "      <th>번호</th>\n",
       "      <th>도서명</th>\n",
       "      <th>저자</th>\n",
       "      <th>출판사</th>\n",
       "      <th>발행년도</th>\n",
       "      <th>ISBN</th>\n",
       "      <th>세트 ISBN</th>\n",
       "      <th>부가기호</th>\n",
       "      <th>권</th>\n",
       "      <th>주제분류번호</th>\n",
       "      <th>도서권수</th>\n",
       "      <th>대출건수</th>\n",
       "      <th>등록일자</th>\n",
       "      <th>Unnamed: 13</th>\n",
       "    </tr>\n",
       "  </thead>\n",
       "  <tbody>\n",
       "    <tr>\n",
       "      <th>0</th>\n",
       "      <td>1</td>\n",
       "      <td>꿈이 자라는 동화여행:2022다문화가정 사랑의 책보내기</td>\n",
       "      <td>윤혜영,박정화,박창희,최유진,장승연 집필</td>\n",
       "      <td>매일신문사</td>\n",
       "      <td>2022</td>\n",
       "      <td>9791190740203</td>\n",
       "      <td>NaN</td>\n",
       "      <td>NaN</td>\n",
       "      <td>NaN</td>\n",
       "      <td>717.60</td>\n",
       "      <td>1</td>\n",
       "      <td>0</td>\n",
       "      <td>2023-02-24</td>\n",
       "      <td>NaN</td>\n",
       "    </tr>\n",
       "    <tr>\n",
       "      <th>1</th>\n",
       "      <td>2</td>\n",
       "      <td>(팔정도 칭명염불 수행으로 불과를 증한) 염불삼매</td>\n",
       "      <td>만덕 지음</td>\n",
       "      <td>NaN</td>\n",
       "      <td>2022</td>\n",
       "      <td>9791197927102</td>\n",
       "      <td>NaN</td>\n",
       "      <td>NaN</td>\n",
       "      <td>NaN</td>\n",
       "      <td>224.81</td>\n",
       "      <td>1</td>\n",
       "      <td>0</td>\n",
       "      <td>2023-02-24</td>\n",
       "      <td>NaN</td>\n",
       "    </tr>\n",
       "    <tr>\n",
       "      <th>2</th>\n",
       "      <td>3</td>\n",
       "      <td>낙동제일강산 영벽정</td>\n",
       "      <td>윤일현 글·사진;달성문화재단 기획</td>\n",
       "      <td>민속원</td>\n",
       "      <td>2022</td>\n",
       "      <td>9788928517930</td>\n",
       "      <td>NaN</td>\n",
       "      <td>NaN</td>\n",
       "      <td>NaN</td>\n",
       "      <td>911.84</td>\n",
       "      <td>1</td>\n",
       "      <td>0</td>\n",
       "      <td>2023-02-24</td>\n",
       "      <td>NaN</td>\n",
       "    </tr>\n",
       "    <tr>\n",
       "      <th>3</th>\n",
       "      <td>4</td>\n",
       "      <td>(모든 붇다가 보살피는) 아미따경:새 세대를 위한 산스크리트 대조 해설</td>\n",
       "      <td>서길수 옮김</td>\n",
       "      <td>맑은나라</td>\n",
       "      <td>2022</td>\n",
       "      <td>9791187305187</td>\n",
       "      <td>NaN</td>\n",
       "      <td>NaN</td>\n",
       "      <td>NaN</td>\n",
       "      <td>223.56</td>\n",
       "      <td>1</td>\n",
       "      <td>0</td>\n",
       "      <td>2023-02-24</td>\n",
       "      <td>NaN</td>\n",
       "    </tr>\n",
       "    <tr>\n",
       "      <th>4</th>\n",
       "      <td>5</td>\n",
       "      <td>성서 이해와 적용</td>\n",
       "      <td>이미자 지음</td>\n",
       "      <td>들림</td>\n",
       "      <td>2022</td>\n",
       "      <td>9788997013630</td>\n",
       "      <td>NaN</td>\n",
       "      <td>NaN</td>\n",
       "      <td>2</td>\n",
       "      <td>233.31</td>\n",
       "      <td>1</td>\n",
       "      <td>0</td>\n",
       "      <td>2023-02-24</td>\n",
       "      <td>NaN</td>\n",
       "    </tr>\n",
       "  </tbody>\n",
       "</table>\n",
       "</div>"
      ],
      "text/plain": [
       "   번호                                      도서명                      저자    출판사  \\\n",
       "0   1           꿈이 자라는 동화여행:2022다문화가정 사랑의 책보내기  윤혜영,박정화,박창희,최유진,장승연 집필  매일신문사   \n",
       "1   2              (팔정도 칭명염불 수행으로 불과를 증한) 염불삼매                   만덕 지음    NaN   \n",
       "2   3                               낙동제일강산 영벽정      윤일현 글·사진;달성문화재단 기획    민속원   \n",
       "3   4  (모든 붇다가 보살피는) 아미따경:새 세대를 위한 산스크리트 대조 해설                  서길수 옮김   맑은나라   \n",
       "4   5                                성서 이해와 적용                  이미자 지음     들림   \n",
       "\n",
       "   발행년도           ISBN  세트 ISBN 부가기호    권  주제분류번호  도서권수  대출건수        등록일자  \\\n",
       "0  2022  9791190740203      NaN  NaN  NaN  717.60     1     0  2023-02-24   \n",
       "1  2022  9791197927102      NaN  NaN  NaN  224.81     1     0  2023-02-24   \n",
       "2  2022  9788928517930      NaN  NaN  NaN  911.84     1     0  2023-02-24   \n",
       "3  2022  9791187305187      NaN  NaN  NaN  223.56     1     0  2023-02-24   \n",
       "4  2022  9788997013630      NaN  NaN    2  233.31     1     0  2023-02-24   \n",
       "\n",
       "   Unnamed: 13  \n",
       "0          NaN  \n",
       "1          NaN  \n",
       "2          NaN  \n",
       "3          NaN  \n",
       "4          NaN  "
      ]
     },
     "execution_count": 10,
     "metadata": {},
     "output_type": "execute_result"
    }
   ],
   "source": [
    "import pandas as pd\n",
    "lib_df = pd.read_csv('대구 동구 신천도서관 장서 대출목록 (2023년 02월).csv', encoding='CP949', low_memory=False)\n",
    "lib_df.head()"
   ]
  },
  {
   "cell_type": "code",
   "execution_count": 84,
   "metadata": {},
   "outputs": [],
   "source": [
    "def data_cleaning(data):\n",
    "    books = data.dropna(axis=1, how='all')\n",
    "    loac_count = books.groupby(by=['도서명', '저자', 'ISBN','권'],dropna=False).sum() \n",
    "    dup_rows = books.duplicated(subset=['도서명','저자','ISBN','권'], keep=False)\n",
    "    unique_rows = ~dup_rows\n",
    "    books2 = books[unique_rows].copy()\n",
    "    books2.set_index(['도서명','저자','ISBN','권'],inplace=True)\n",
    "    books2.update(loac_count)\n",
    "    books3 = books2.reset_index()\n",
    "    books3 = books3[books.columns]\n",
    "    return books3"
   ]
  },
  {
   "cell_type": "code",
   "execution_count": 91,
   "metadata": {},
   "outputs": [
    {
     "name": "stderr",
     "output_type": "stream",
     "text": [
      "/tmp/ipykernel_41715/661546322.py:3: FutureWarning: The default value of numeric_only in DataFrameGroupBy.sum is deprecated. In a future version, numeric_only will default to False. Either specify numeric_only or select only columns which should be valid for the function.\n",
      "  loac_count = books.groupby(by=['도서명', '저자', 'ISBN','권'],dropna=False).sum()\n"
     ]
    },
    {
     "data": {
      "text/plain": [
       "False"
      ]
     },
     "execution_count": 91,
     "metadata": {},
     "output_type": "execute_result"
    }
   ],
   "source": [
    "import pandas as pd\n",
    "# data = pd.read_csv('ns_202104.csv', low_memory=False)\n",
    "# data2 = pd.read_csv('대구 동구 신천도서관 장서 대출목록 (2023년 02월).csv', encoding='CP949', low_memory=False)\n",
    "# clean_df = data_cleaning(data)\n",
    "# clean_df2 = data_cleaning(data2)\n",
    "# clean_df.equals(clean_df2)\n",
    "\n",
    "# data = pd.read_csv('대구 동구 신천도서관 장서 대출목록 (2023년 02월).csv', encoding='CP949', low_memory=False)\n",
    "# clean_df = data_cleaning(data)\n",
    "# clean_df.equals(data)"
   ]
  },
  {
   "cell_type": "code",
   "execution_count": null,
   "metadata": {},
   "outputs": [],
   "source": []
  },
  {
   "cell_type": "code",
   "execution_count": null,
   "metadata": {},
   "outputs": [],
   "source": []
  },
  {
   "cell_type": "code",
   "execution_count": null,
   "metadata": {},
   "outputs": [],
   "source": []
  },
  {
   "cell_type": "code",
   "execution_count": null,
   "metadata": {},
   "outputs": [],
   "source": []
  }
 ],
 "metadata": {
  "kernelspec": {
   "display_name": "Python 3",
   "language": "python",
   "name": "python3"
  },
  "language_info": {
   "name": "python",
   "version": "3.10.6"
  },
  "orig_nbformat": 4
 },
 "nbformat": 4,
 "nbformat_minor": 2
}
