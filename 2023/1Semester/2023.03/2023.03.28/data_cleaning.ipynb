{
 "cells": [
  {
   "cell_type": "code",
   "execution_count": null,
   "metadata": {},
   "outputs": [],
   "source": [
    "import pandas as pd\n",
    "def data_cleaning(filename):\n",
    "    ns_df = pd.read_csv('ns_202104.csv', low_memory=False) \n",
    "    ns_book = ns_df.loc[:,'번호':'등록일자'] \n",
    "    ns_book = ns_df.dropna(axis=1, how='all') \n",
    "    count_df = ns_book[['도서명','저자','ISBN','권','대출건수']] \n",
    "    loac_count = count_df.groupby(by=['도서명','ISBN','권'],dropna=False).sum() \n",
    "    dup_rows = ns_book.duplicated(subset=['도서명','저자','ISBN','권'])\n",
    "    unique_rows = ~dup_rows\n",
    "    ns_book3 = ns_book[unique_rows]\n",
    "    ns_book3.set_index(['도서명','저자','ISBN','권'],inplace=True)\n",
    "    ns_book3.update(loac_count)\n",
    "    ns_book4 = ns_book3.reset_index()\n",
    "    ns_book4 = ns_book4[ns_book.columns]\n",
    "    return ns_book4"
   ]
  }
 ],
 "metadata": {
  "language_info": {
   "name": "python"
  },
  "orig_nbformat": 4
 },
 "nbformat": 4,
 "nbformat_minor": 2
}
