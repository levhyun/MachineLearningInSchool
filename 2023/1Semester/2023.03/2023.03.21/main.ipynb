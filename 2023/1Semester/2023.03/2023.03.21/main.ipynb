{
 "cells": [
  {
   "cell_type": "code",
   "execution_count": 4,
   "metadata": {},
   "outputs": [
    {
     "name": "stdout",
     "output_type": "stream",
     "text": [
      "1번째 줄입니다.\n",
      "\n",
      "2번째 줄입니다.\n",
      "\n",
      "3번째 줄입니다.\n",
      "\n",
      "4번째 줄입니다.\n"
     ]
    }
   ],
   "source": [
    "# for 파일 읽기\n",
    "with open('textFile.txt', 'r') as f:    \n",
    "    for str in f:    \n",
    "        print(str)"
   ]
  },
  {
   "cell_type": "code",
   "execution_count": 5,
   "metadata": {},
   "outputs": [
    {
     "name": "stdout",
     "output_type": "stream",
     "text": [
      "1번째 줄입니다.\n",
      "\n",
      "2번째 줄입니다.\n",
      "\n",
      "3번째 줄입니다.\n",
      "\n",
      "4번째 줄입니다.\n",
      "\n"
     ]
    }
   ],
   "source": [
    "# while 파일 읽기\n",
    "with open('textFile.txt', 'r') as f:\n",
    "    str = None\n",
    "    while str != '':\n",
    "        str = f.readline()\n",
    "        print(str)"
   ]
  },
  {
   "cell_type": "code",
   "execution_count": 6,
   "metadata": {},
   "outputs": [
    {
     "name": "stdout",
     "output_type": "stream",
     "text": [
      "1번째 줄입니다.\n",
      "2번째 줄입니다.\n",
      "3번째 줄입니다.\n",
      "4번째 줄입니다.\n"
     ]
    }
   ],
   "source": [
    "# for 파일 읽기 - 2\n",
    "with open('textFile.txt', 'r') as f:    \n",
    "    for str in f:    \n",
    "        print(str.strip('\\n'))"
   ]
  },
  {
   "cell_type": "code",
   "execution_count": 7,
   "metadata": {},
   "outputs": [
    {
     "name": "stdout",
     "output_type": "stream",
     "text": [
      "1번째 줄입니다.\n",
      "2번째 줄입니다.\n",
      "3번째 줄입니다.\n",
      "4번째 줄입니다.\n",
      "\n"
     ]
    }
   ],
   "source": [
    "# while 파일 읽기 - 2\n",
    "with open('textFile.txt', 'r') as f:\n",
    "    str = None\n",
    "    while str != '':\n",
    "        str = f.readline()\n",
    "        print(str.strip('\\n'))"
   ]
  },
  {
   "cell_type": "code",
   "execution_count": 8,
   "metadata": {},
   "outputs": [
    {
     "name": "stdout",
     "output_type": "stream",
     "text": [
      "1번째 줄입니다.2번째 줄입니다.3번째 줄입니다.4번째 줄입니다."
     ]
    }
   ],
   "source": [
    "# for 파일 읽기 - 한줄로 출력\n",
    "with open('textFile.txt', 'r') as f:    \n",
    "    for str in f:    \n",
    "        print(str.strip('\\n'), end=\"\")"
   ]
  },
  {
   "cell_type": "code",
   "execution_count": 9,
   "metadata": {},
   "outputs": [
    {
     "name": "stdout",
     "output_type": "stream",
     "text": [
      "1번째 줄입니다.2번째 줄입니다.3번째 줄입니다.4번째 줄입니다."
     ]
    }
   ],
   "source": [
    "# while 파일 읽기 - 한줄로 출력\n",
    "with open('textFile.txt', 'r') as f:\n",
    "    str = None\n",
    "    while str != '':\n",
    "        str = f.readline()\n",
    "        print(str.strip('\\n'), end=\"\")"
   ]
  },
  {
   "cell_type": "code",
   "execution_count": 3,
   "metadata": {},
   "outputs": [
    {
     "name": "stdout",
     "output_type": "stream",
     "text": [
      "   과목번호     과목명\n",
      "0     1      자바\n",
      "1     2  웹프로그래밍\n",
      "2     3    머신러닝\n"
     ]
    }
   ],
   "source": [
    "# dataframe 만들기\n",
    "import pandas as pd\n",
    "columns=[]\n",
    "subjects=[]\n",
    "columns.extend(['과목번호', '과목명'])\n",
    "subjects.extend([[1,'자바'],[2,'웹프로그래밍'],[3,'머신러닝']])\n",
    "table = pd.DataFrame(data=subjects, columns=columns)\n",
    "print(table)"
   ]
  },
  {
   "cell_type": "code",
   "execution_count": 26,
   "metadata": {},
   "outputs": [],
   "source": [
    "# csv파일 만들기\n",
    "table.to_csv(\"subjectCSV.csv\", index=False)"
   ]
  },
  {
   "cell_type": "code",
   "execution_count": 10,
   "metadata": {},
   "outputs": [],
   "source": [
    "# xls파일 만들기\n",
    "\n",
    "# pip install pillow openpyxl\n",
    "table.to_excel('subjectXLS.xls', index=False, engine='openpyxl')"
   ]
  }
 ],
 "metadata": {
  "kernelspec": {
   "display_name": "base",
   "language": "python",
   "name": "python3"
  },
  "language_info": {
   "codemirror_mode": {
    "name": "ipython",
    "version": 3
   },
   "file_extension": ".py",
   "mimetype": "text/x-python",
   "name": "python",
   "nbconvert_exporter": "python",
   "pygments_lexer": "ipython3",
   "version": "3.9.13"
  },
  "orig_nbformat": 4
 },
 "nbformat": 4,
 "nbformat_minor": 2
}
