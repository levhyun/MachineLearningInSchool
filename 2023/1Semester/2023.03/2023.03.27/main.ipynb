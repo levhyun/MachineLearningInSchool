{
 "cells": [
  {
   "cell_type": "code",
   "execution_count": 4,
   "metadata": {},
   "outputs": [
    {
     "data": {
      "text/plain": [
       "0      홍길동\n",
       "1      전우치\n",
       "2      강감찬\n",
       "3    스티브잡스\n",
       "dtype: object"
      ]
     },
     "execution_count": 4,
     "metadata": {},
     "output_type": "execute_result"
    }
   ],
   "source": [
    "import pandas as pd\n",
    "\n",
    "member=pd.Series(data=['홍길동','전우치','강감찬','스티브잡스'])\n",
    "member"
   ]
  },
  {
   "cell_type": "code",
   "execution_count": 6,
   "metadata": {},
   "outputs": [
    {
     "data": {
      "text/plain": [
       "1번      홍길동\n",
       "2번      전우치\n",
       "3번      강감찬\n",
       "4번    스티브잡스\n",
       "dtype: object"
      ]
     },
     "execution_count": 6,
     "metadata": {},
     "output_type": "execute_result"
    }
   ],
   "source": [
    "import pandas as pd\n",
    "\n",
    "member=pd.Series(data=['홍길동','전우치','강감찬','스티브잡스'], index=['1번','2번','3번','4번'])\n",
    "member"
   ]
  },
  {
   "cell_type": "code",
   "execution_count": 7,
   "metadata": {},
   "outputs": [
    {
     "data": {
      "text/plain": [
       "'홍길동'"
      ]
     },
     "execution_count": 7,
     "metadata": {},
     "output_type": "execute_result"
    }
   ],
   "source": [
    "member['1번']"
   ]
  },
  {
   "cell_type": "code",
   "execution_count": 8,
   "metadata": {},
   "outputs": [
    {
     "data": {
      "text/plain": [
       "1번    홍길동\n",
       "3번    강감찬\n",
       "dtype: object"
      ]
     },
     "execution_count": 8,
     "metadata": {},
     "output_type": "execute_result"
    }
   ],
   "source": [
    "member[ ['1번','3번'] ]"
   ]
  },
  {
   "cell_type": "code",
   "execution_count": 10,
   "metadata": {},
   "outputs": [
    {
     "data": {
      "text/plain": [
       "일지매    130\n",
       "전우치    120\n",
       "홍길동    100\n",
       "dtype: int64"
      ]
     },
     "execution_count": 10,
     "metadata": {},
     "output_type": "execute_result"
    }
   ],
   "source": [
    "sal_1 = {'일지매' : 130 , '전우치' : 120, '홍길동':100}\n",
    "sal_2 = pd.Series(data=sal_1)\n",
    "sal_2"
   ]
  },
  {
   "cell_type": "code",
   "execution_count": 11,
   "metadata": {},
   "outputs": [
    {
     "data": {
      "text/plain": [
       "홍길동    10\n",
       "전우치    12\n",
       "강감찬    20\n",
       "dtype: int64"
      ]
     },
     "execution_count": 11,
     "metadata": {},
     "output_type": "execute_result"
    }
   ],
   "source": [
    "sal_3 = {'홍길동' : 10 , '전우치' : 12, '강감찬':20}\n",
    "sal_4 = pd.Series(data=sal_3)\n",
    "sal_4"
   ]
  },
  {
   "cell_type": "code",
   "execution_count": 12,
   "metadata": {},
   "outputs": [
    {
     "name": "stdout",
     "output_type": "stream",
     "text": [
      "강감찬      NaN\n",
      "일지매      NaN\n",
      "전우치    132.0\n",
      "홍길동    110.0\n",
      "dtype: float64\n"
     ]
    }
   ],
   "source": [
    "print(sal_2 + sal_4)"
   ]
  },
  {
   "cell_type": "code",
   "execution_count": 36,
   "metadata": {},
   "outputs": [
    {
     "data": {
      "text/html": [
       "<div>\n",
       "<style scoped>\n",
       "    .dataframe tbody tr th:only-of-type {\n",
       "        vertical-align: middle;\n",
       "    }\n",
       "\n",
       "    .dataframe tbody tr th {\n",
       "        vertical-align: top;\n",
       "    }\n",
       "\n",
       "    .dataframe thead th {\n",
       "        text-align: right;\n",
       "    }\n",
       "</style>\n",
       "<table border=\"1\" class=\"dataframe\">\n",
       "  <thead>\n",
       "    <tr style=\"text-align: right;\">\n",
       "      <th></th>\n",
       "      <th>번호</th>\n",
       "      <th>이름</th>\n",
       "      <th>생년</th>\n",
       "    </tr>\n",
       "  </thead>\n",
       "  <tbody>\n",
       "    <tr>\n",
       "      <th>0</th>\n",
       "      <td>1번</td>\n",
       "      <td>홍길동</td>\n",
       "      <td>1975</td>\n",
       "    </tr>\n",
       "    <tr>\n",
       "      <th>1</th>\n",
       "      <td>2번</td>\n",
       "      <td>전우치</td>\n",
       "      <td>1980</td>\n",
       "    </tr>\n",
       "    <tr>\n",
       "      <th>2</th>\n",
       "      <td>3번</td>\n",
       "      <td>강감찬</td>\n",
       "      <td>1992</td>\n",
       "    </tr>\n",
       "  </tbody>\n",
       "</table>\n",
       "</div>"
      ],
      "text/plain": [
       "   번호   이름    생년\n",
       "0  1번  홍길동  1975\n",
       "1  2번  전우치  1980\n",
       "2  3번  강감찬  1992"
      ]
     },
     "execution_count": 36,
     "metadata": {},
     "output_type": "execute_result"
    }
   ],
   "source": [
    "member3 = {'번호' : ['1번','2번','3번'] ,\n",
    "        '이름' : ['홍길동','전우치','강감찬'],\n",
    "        '생년' : [1975 , 1980 , 1992] }\n",
    "member4 = pd.DataFrame(data=member3)\n",
    "member4"
   ]
  },
  {
   "cell_type": "code",
   "execution_count": 35,
   "metadata": {},
   "outputs": [
    {
     "data": {
      "text/html": [
       "<div>\n",
       "<style scoped>\n",
       "    .dataframe tbody tr th:only-of-type {\n",
       "        vertical-align: middle;\n",
       "    }\n",
       "\n",
       "    .dataframe tbody tr th {\n",
       "        vertical-align: top;\n",
       "    }\n",
       "\n",
       "    .dataframe thead th {\n",
       "        text-align: right;\n",
       "    }\n",
       "</style>\n",
       "<table border=\"1\" class=\"dataframe\">\n",
       "  <thead>\n",
       "    <tr style=\"text-align: right;\">\n",
       "      <th></th>\n",
       "      <th>번호</th>\n",
       "      <th>번호</th>\n",
       "      <th>생년</th>\n",
       "    </tr>\n",
       "  </thead>\n",
       "  <tbody>\n",
       "    <tr>\n",
       "      <th>0</th>\n",
       "      <td>1번</td>\n",
       "      <td>홍길동</td>\n",
       "      <td>1975</td>\n",
       "    </tr>\n",
       "    <tr>\n",
       "      <th>1</th>\n",
       "      <td>2번</td>\n",
       "      <td>잔우치</td>\n",
       "      <td>1982</td>\n",
       "    </tr>\n",
       "    <tr>\n",
       "      <th>2</th>\n",
       "      <td>3번</td>\n",
       "      <td>강감찬</td>\n",
       "      <td>1980</td>\n",
       "    </tr>\n",
       "  </tbody>\n",
       "</table>\n",
       "</div>"
      ],
      "text/plain": [
       "   번호   번호    생년\n",
       "0  1번  홍길동  1975\n",
       "1  2번  잔우치  1982\n",
       "2  3번  강감찬  1980"
      ]
     },
     "execution_count": 35,
     "metadata": {},
     "output_type": "execute_result"
    }
   ],
   "source": [
    "member5 = [['1번', '홍길동', '1975'],['2번', '잔우치', '1982'], ['3번', '강감찬', '1980']]\n",
    "member6 = pd.DataFrame(data=member5, columns=['번호', '번호', '생년'])\n",
    "member6"
   ]
  },
  {
   "cell_type": "code",
   "execution_count": 44,
   "metadata": {},
   "outputs": [
    {
     "data": {
      "text/html": [
       "<style type=\"text/css\">\n",
       "</style>\n",
       "<table id=\"T_1a3ca\">\n",
       "  <thead>\n",
       "    <tr>\n",
       "      <th id=\"T_1a3ca_level0_col0\" class=\"col_heading level0 col0\" >번호</th>\n",
       "      <th id=\"T_1a3ca_level0_col1\" class=\"col_heading level0 col1\" >번호</th>\n",
       "      <th id=\"T_1a3ca_level0_col2\" class=\"col_heading level0 col2\" >생년</th>\n",
       "    </tr>\n",
       "  </thead>\n",
       "  <tbody>\n",
       "    <tr>\n",
       "      <td id=\"T_1a3ca_row0_col0\" class=\"data row0 col0\" >2번</td>\n",
       "      <td id=\"T_1a3ca_row0_col1\" class=\"data row0 col1\" >잔우치</td>\n",
       "      <td id=\"T_1a3ca_row0_col2\" class=\"data row0 col2\" >1982</td>\n",
       "    </tr>\n",
       "    <tr>\n",
       "      <td id=\"T_1a3ca_row1_col0\" class=\"data row1 col0\" >3번</td>\n",
       "      <td id=\"T_1a3ca_row1_col1\" class=\"data row1 col1\" >강감찬</td>\n",
       "      <td id=\"T_1a3ca_row1_col2\" class=\"data row1 col2\" >1980</td>\n",
       "    </tr>\n",
       "    <tr>\n",
       "      <td id=\"T_1a3ca_row2_col0\" class=\"data row2 col0\" >1번</td>\n",
       "      <td id=\"T_1a3ca_row2_col1\" class=\"data row2 col1\" >홍길동</td>\n",
       "      <td id=\"T_1a3ca_row2_col2\" class=\"data row2 col2\" >1975</td>\n",
       "    </tr>\n",
       "  </tbody>\n",
       "</table>\n"
      ],
      "text/plain": [
       "<pandas.io.formats.style.Styler at 0x19594b31940>"
      ]
     },
     "execution_count": 44,
     "metadata": {},
     "output_type": "execute_result"
    }
   ],
   "source": [
    "member6.sort_values('생년', ascending = False).style.hide(axis='index')"
   ]
  },
  {
   "cell_type": "code",
   "execution_count": 45,
   "metadata": {},
   "outputs": [
    {
     "data": {
      "text/html": [
       "<div>\n",
       "<style scoped>\n",
       "    .dataframe tbody tr th:only-of-type {\n",
       "        vertical-align: middle;\n",
       "    }\n",
       "\n",
       "    .dataframe tbody tr th {\n",
       "        vertical-align: top;\n",
       "    }\n",
       "\n",
       "    .dataframe thead th {\n",
       "        text-align: right;\n",
       "    }\n",
       "</style>\n",
       "<table border=\"1\" class=\"dataframe\">\n",
       "  <thead>\n",
       "    <tr style=\"text-align: right;\">\n",
       "      <th></th>\n",
       "      <th>신청날짜</th>\n",
       "      <th>사업장</th>\n",
       "      <th>품목</th>\n",
       "      <th>수량</th>\n",
       "      <th>단가</th>\n",
       "      <th>금액</th>\n",
       "    </tr>\n",
       "  </thead>\n",
       "  <tbody>\n",
       "    <tr>\n",
       "      <th>0</th>\n",
       "      <td>2019-08-23</td>\n",
       "      <td>석수</td>\n",
       "      <td>ANGLE</td>\n",
       "      <td>21</td>\n",
       "      <td>32000</td>\n",
       "      <td>672000</td>\n",
       "    </tr>\n",
       "    <tr>\n",
       "      <th>1</th>\n",
       "      <td>2019-09-09</td>\n",
       "      <td>석수</td>\n",
       "      <td>백관</td>\n",
       "      <td>44</td>\n",
       "      <td>56000</td>\n",
       "      <td>2464000</td>\n",
       "    </tr>\n",
       "    <tr>\n",
       "      <th>2</th>\n",
       "      <td>2019-06-18</td>\n",
       "      <td>석수</td>\n",
       "      <td>절연판</td>\n",
       "      <td>40</td>\n",
       "      <td>45000</td>\n",
       "      <td>1800000</td>\n",
       "    </tr>\n",
       "    <tr>\n",
       "      <th>3</th>\n",
       "      <td>2019-03-13</td>\n",
       "      <td>석수</td>\n",
       "      <td>P/Z O-RING</td>\n",
       "      <td>11</td>\n",
       "      <td>38000</td>\n",
       "      <td>418000</td>\n",
       "    </tr>\n",
       "    <tr>\n",
       "      <th>4</th>\n",
       "      <td>2019-05-11</td>\n",
       "      <td>석수</td>\n",
       "      <td>알코올</td>\n",
       "      <td>38</td>\n",
       "      <td>8000</td>\n",
       "      <td>304000</td>\n",
       "    </tr>\n",
       "    <tr>\n",
       "      <th>5</th>\n",
       "      <td>2019-06-28</td>\n",
       "      <td>석수</td>\n",
       "      <td>실리콘</td>\n",
       "      <td>30</td>\n",
       "      <td>150000</td>\n",
       "      <td>4500000</td>\n",
       "    </tr>\n",
       "    <tr>\n",
       "      <th>6</th>\n",
       "      <td>2019-02-16</td>\n",
       "      <td>석수</td>\n",
       "      <td>소모품</td>\n",
       "      <td>4</td>\n",
       "      <td>2200</td>\n",
       "      <td>8800</td>\n",
       "    </tr>\n",
       "    <tr>\n",
       "      <th>7</th>\n",
       "      <td>2019-10-22</td>\n",
       "      <td>석수</td>\n",
       "      <td>MOTOR</td>\n",
       "      <td>14</td>\n",
       "      <td>30000</td>\n",
       "      <td>420000</td>\n",
       "    </tr>\n",
       "    <tr>\n",
       "      <th>8</th>\n",
       "      <td>2019-03-18</td>\n",
       "      <td>석수</td>\n",
       "      <td>PAPER BRSH</td>\n",
       "      <td>13</td>\n",
       "      <td>40000</td>\n",
       "      <td>520000</td>\n",
       "    </tr>\n",
       "    <tr>\n",
       "      <th>9</th>\n",
       "      <td>2019-07-17</td>\n",
       "      <td>석수</td>\n",
       "      <td>불화카리</td>\n",
       "      <td>23</td>\n",
       "      <td>83000</td>\n",
       "      <td>1909000</td>\n",
       "    </tr>\n",
       "    <tr>\n",
       "      <th>10</th>\n",
       "      <td>2019-07-23</td>\n",
       "      <td>석수</td>\n",
       "      <td>마크펜</td>\n",
       "      <td>33</td>\n",
       "      <td>3000</td>\n",
       "      <td>99000</td>\n",
       "    </tr>\n",
       "    <tr>\n",
       "      <th>11</th>\n",
       "      <td>2019-03-20</td>\n",
       "      <td>석수</td>\n",
       "      <td>NUT</td>\n",
       "      <td>20</td>\n",
       "      <td>15000</td>\n",
       "      <td>300000</td>\n",
       "    </tr>\n",
       "    <tr>\n",
       "      <th>12</th>\n",
       "      <td>2019-01-27</td>\n",
       "      <td>석수</td>\n",
       "      <td>윤활유</td>\n",
       "      <td>30</td>\n",
       "      <td>2000000</td>\n",
       "      <td>60000000</td>\n",
       "    </tr>\n",
       "    <tr>\n",
       "      <th>13</th>\n",
       "      <td>2019-07-11</td>\n",
       "      <td>석수</td>\n",
       "      <td>소모품</td>\n",
       "      <td>50</td>\n",
       "      <td>2200</td>\n",
       "      <td>110000</td>\n",
       "    </tr>\n",
       "    <tr>\n",
       "      <th>14</th>\n",
       "      <td>2019-05-16</td>\n",
       "      <td>석수</td>\n",
       "      <td>BITE</td>\n",
       "      <td>14</td>\n",
       "      <td>86000</td>\n",
       "      <td>1204000</td>\n",
       "    </tr>\n",
       "  </tbody>\n",
       "</table>\n",
       "</div>"
      ],
      "text/plain": [
       "         신청날짜 사업장          품목  수량       단가        금액\n",
       "0  2019-08-23  석수       ANGLE  21    32000    672000\n",
       "1  2019-09-09  석수          백관  44    56000   2464000\n",
       "2  2019-06-18  석수         절연판  40    45000   1800000\n",
       "3  2019-03-13  석수  P/Z O-RING  11    38000    418000\n",
       "4  2019-05-11  석수         알코올  38     8000    304000\n",
       "5  2019-06-28  석수         실리콘  30   150000   4500000\n",
       "6  2019-02-16  석수         소모품   4     2200      8800\n",
       "7  2019-10-22  석수       MOTOR  14    30000    420000\n",
       "8  2019-03-18  석수  PAPER BRSH  13    40000    520000\n",
       "9  2019-07-17  석수        불화카리  23    83000   1909000\n",
       "10 2019-07-23  석수         마크펜  33     3000     99000\n",
       "11 2019-03-20  석수         NUT  20    15000    300000\n",
       "12 2019-01-27  석수         윤활유  30  2000000  60000000\n",
       "13 2019-07-11  석수         소모품  50     2200    110000\n",
       "14 2019-05-16  석수        BITE  14    86000   1204000"
      ]
     },
     "execution_count": 45,
     "metadata": {},
     "output_type": "execute_result"
    }
   ],
   "source": [
    "import pandas as pd\n",
    "\n",
    "\n",
    "data = pd.read_excel('부품구입대장2.xls')\n",
    "data"
   ]
  },
  {
   "cell_type": "code",
   "execution_count": 46,
   "metadata": {},
   "outputs": [
    {
     "data": {
      "text/html": [
       "<div>\n",
       "<style scoped>\n",
       "    .dataframe tbody tr th:only-of-type {\n",
       "        vertical-align: middle;\n",
       "    }\n",
       "\n",
       "    .dataframe tbody tr th {\n",
       "        vertical-align: top;\n",
       "    }\n",
       "\n",
       "    .dataframe thead th {\n",
       "        text-align: right;\n",
       "    }\n",
       "</style>\n",
       "<table border=\"1\" class=\"dataframe\">\n",
       "  <thead>\n",
       "    <tr style=\"text-align: right;\">\n",
       "      <th></th>\n",
       "      <th>이름</th>\n",
       "      <th>요일</th>\n",
       "      <th>실적</th>\n",
       "    </tr>\n",
       "  </thead>\n",
       "  <tbody>\n",
       "    <tr>\n",
       "      <th>0</th>\n",
       "      <td>이름</td>\n",
       "      <td>요일</td>\n",
       "      <td>실적</td>\n",
       "    </tr>\n",
       "    <tr>\n",
       "      <th>1</th>\n",
       "      <td>홍길동</td>\n",
       "      <td>월요일</td>\n",
       "      <td>100</td>\n",
       "    </tr>\n",
       "    <tr>\n",
       "      <th>2</th>\n",
       "      <td>홍길동</td>\n",
       "      <td>화요일</td>\n",
       "      <td>70</td>\n",
       "    </tr>\n",
       "    <tr>\n",
       "      <th>3</th>\n",
       "      <td>홍길동</td>\n",
       "      <td>수요일</td>\n",
       "      <td>80</td>\n",
       "    </tr>\n",
       "    <tr>\n",
       "      <th>4</th>\n",
       "      <td>홍길동</td>\n",
       "      <td>목요일</td>\n",
       "      <td>85</td>\n",
       "    </tr>\n",
       "    <tr>\n",
       "      <th>5</th>\n",
       "      <td>홍길동</td>\n",
       "      <td>금요일</td>\n",
       "      <td>65</td>\n",
       "    </tr>\n",
       "    <tr>\n",
       "      <th>6</th>\n",
       "      <td>홍길동</td>\n",
       "      <td>토요일</td>\n",
       "      <td>95</td>\n",
       "    </tr>\n",
       "    <tr>\n",
       "      <th>7</th>\n",
       "      <td>홍길동</td>\n",
       "      <td>일요일</td>\n",
       "      <td>120</td>\n",
       "    </tr>\n",
       "  </tbody>\n",
       "</table>\n",
       "</div>"
      ],
      "text/plain": [
       "    이름   요일   실적\n",
       "0   이름   요일   실적\n",
       "1  홍길동  월요일  100\n",
       "2  홍길동  화요일   70\n",
       "3  홍길동  수요일   80\n",
       "4  홍길동  목요일   85\n",
       "5  홍길동  금요일   65\n",
       "6  홍길동  토요일   95\n",
       "7  홍길동  일요일  120"
      ]
     },
     "execution_count": 46,
     "metadata": {},
     "output_type": "execute_result"
    }
   ],
   "source": [
    "import pandas as pd\n",
    "data = pd.read_csv('사원별판매현황_홍길동.csv', names=['이름','요일','실적'], encoding='cp949')\n",
    "data"
   ]
  },
  {
   "cell_type": "code",
   "execution_count": 52,
   "metadata": {},
   "outputs": [
    {
     "data": {
      "text/plain": [
       "0    1975\n",
       "1    1980\n",
       "2    1992\n",
       "Name: 생년, dtype: int64"
      ]
     },
     "execution_count": 52,
     "metadata": {},
     "output_type": "execute_result"
    }
   ],
   "source": [
    "member4['생년']"
   ]
  },
  {
   "cell_type": "code",
   "execution_count": 58,
   "metadata": {},
   "outputs": [
    {
     "data": {
      "text/html": [
       "<div>\n",
       "<style scoped>\n",
       "    .dataframe tbody tr th:only-of-type {\n",
       "        vertical-align: middle;\n",
       "    }\n",
       "\n",
       "    .dataframe tbody tr th {\n",
       "        vertical-align: top;\n",
       "    }\n",
       "\n",
       "    .dataframe thead th {\n",
       "        text-align: right;\n",
       "    }\n",
       "</style>\n",
       "<table border=\"1\" class=\"dataframe\">\n",
       "  <thead>\n",
       "    <tr style=\"text-align: right;\">\n",
       "      <th></th>\n",
       "      <th>번호</th>\n",
       "      <th>이름</th>\n",
       "      <th>생년</th>\n",
       "    </tr>\n",
       "  </thead>\n",
       "  <tbody>\n",
       "    <tr>\n",
       "      <th>1</th>\n",
       "      <td>2번</td>\n",
       "      <td>전우치</td>\n",
       "      <td>1980</td>\n",
       "    </tr>\n",
       "    <tr>\n",
       "      <th>2</th>\n",
       "      <td>3번</td>\n",
       "      <td>강감찬</td>\n",
       "      <td>1992</td>\n",
       "    </tr>\n",
       "  </tbody>\n",
       "</table>\n",
       "</div>"
      ],
      "text/plain": [
       "   번호   이름    생년\n",
       "1  2번  전우치  1980\n",
       "2  3번  강감찬  1992"
      ]
     },
     "execution_count": 58,
     "metadata": {},
     "output_type": "execute_result"
    }
   ],
   "source": [
    "member4.loc[1:2]"
   ]
  }
 ],
 "metadata": {
  "kernelspec": {
   "display_name": "base",
   "language": "python",
   "name": "python3"
  },
  "language_info": {
   "codemirror_mode": {
    "name": "ipython",
    "version": 3
   },
   "file_extension": ".py",
   "mimetype": "text/x-python",
   "name": "python",
   "nbconvert_exporter": "python",
   "pygments_lexer": "ipython3",
   "version": "3.9.13"
  },
  "orig_nbformat": 4
 },
 "nbformat": 4,
 "nbformat_minor": 2
}
