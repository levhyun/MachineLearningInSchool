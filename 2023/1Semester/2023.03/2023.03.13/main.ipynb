{
 "cells": [
  {
   "cell_type": "code",
   "execution_count": 32,
   "metadata": {},
   "outputs": [
    {
     "data": {
      "text/plain": [
       "['소마고', '2023', 18, 72, ['2학년', '1반', '2반', '3반'], '4반']"
      ]
     },
     "execution_count": 32,
     "metadata": {},
     "output_type": "execute_result"
    }
   ],
   "source": [
    "# 리스트.append(데이터)\n",
    "t=['소마고', '2023',  18, 72, ['2학년', '1반', '2반', '3반']]\n",
    "t.append(\"4반\")\n",
    "t "
   ]
  },
  {
   "cell_type": "code",
   "execution_count": 33,
   "metadata": {},
   "outputs": [
    {
     "data": {
      "text/plain": [
       "['소마고', '2023', 18, 72, ['2학년', '1반', '2반', '3반']]"
      ]
     },
     "execution_count": 33,
     "metadata": {},
     "output_type": "execute_result"
    }
   ],
   "source": [
    "# del 리스트[인덱스]\n",
    "t=['소마고', '2023',  18, 72, ['2학년', '1반', '2반', '3반'],'4반']\n",
    "del t[len(t)-1]\n",
    "t"
   ]
  },
  {
   "cell_type": "code",
   "execution_count": 34,
   "metadata": {},
   "outputs": [
    {
     "data": {
      "text/plain": [
       "['소마고', '2023', 18, 72, ['2학년', '1반', '2반', '3반']]"
      ]
     },
     "execution_count": 34,
     "metadata": {},
     "output_type": "execute_result"
    }
   ],
   "source": [
    "# 리스트.remove(데이터)\n",
    "t=['소마고', '2023',  18, 72, ['2학년', '1반', '2반', '3반'],'4반']\n",
    "t.remove(\"4반\")\n",
    "t"
   ]
  },
  {
   "cell_type": "code",
   "execution_count": 35,
   "metadata": {},
   "outputs": [
    {
     "name": "stdout",
     "output_type": "stream",
     "text": [
      "490 -170 250 1020 80 620 210 "
     ]
    }
   ],
   "source": [
    "# FOR\n",
    "x = [49, -17, 25, 102, 8, 62, 21]\n",
    "for i in x:\n",
    "    print(f'{i}0 ', end='')\n"
   ]
  },
  {
   "cell_type": "code",
   "execution_count": 36,
   "metadata": {},
   "outputs": [
    {
     "name": "stdout",
     "output_type": "stream",
     "text": [
      "5 X 1 = 5\n",
      "5 X 2 = 10\n",
      "5 X 3 = 15\n",
      "5 X 4 = 20\n",
      "5 X 5 = 25\n",
      "5 X 6 = 30\n",
      "5 X 7 = 35\n",
      "5 X 8 = 40\n",
      "5 X 9 = 45\n"
     ]
    }
   ],
   "source": [
    "# 구구단\n",
    "num = int(input(\"출력을 원하시는 단을 입력하세요: \"))\n",
    "for i in range(1,10):\n",
    "    print(f'{num} X {i} = {num * i}')\n"
   ]
  },
  {
   "cell_type": "code",
   "execution_count": 51,
   "metadata": {},
   "outputs": [
    {
     "name": "stdout",
     "output_type": "stream",
     "text": [
      "대     구     소     프     트     웨     어     마     이     스     터\n"
     ]
    }
   ],
   "source": [
    "# 대구 소프트웨어 마이스터\n",
    "txt = '대구소프트웨어마이스터'\n",
    "print(\"     \".join(i for i in txt))"
   ]
  },
  {
   "cell_type": "code",
   "execution_count": 71,
   "metadata": {},
   "outputs": [
    {
     "name": "stdout",
     "output_type": "stream",
     "text": [
      "2 X 1 = 2\t3 X 1 = 3\t4 X 1 = 4\t5 X 1 = 5\t6 X 1 = 6\t7 X 1 = 7\t8 X 1 = 8\t9 X 1 = 9\t\n",
      "\n",
      "2 X 2 = 4\t3 X 2 = 6\t4 X 2 = 8\t5 X 2 = 10\t6 X 2 = 12\t7 X 2 = 14\t8 X 2 = 16\t9 X 2 = 18\t\n",
      "\n",
      "2 X 3 = 6\t3 X 3 = 9\t4 X 3 = 12\t5 X 3 = 15\t6 X 3 = 18\t7 X 3 = 21\t8 X 3 = 24\t9 X 3 = 27\t\n",
      "\n",
      "2 X 4 = 8\t3 X 4 = 12\t4 X 4 = 16\t5 X 4 = 20\t6 X 4 = 24\t7 X 4 = 28\t8 X 4 = 32\t9 X 4 = 36\t\n",
      "\n",
      "2 X 5 = 10\t3 X 5 = 15\t4 X 5 = 20\t5 X 5 = 25\t6 X 5 = 30\t7 X 5 = 35\t8 X 5 = 40\t9 X 5 = 45\t\n",
      "\n",
      "2 X 6 = 12\t3 X 6 = 18\t4 X 6 = 24\t5 X 6 = 30\t6 X 6 = 36\t7 X 6 = 42\t8 X 6 = 48\t9 X 6 = 54\t\n",
      "\n",
      "2 X 7 = 14\t3 X 7 = 21\t4 X 7 = 28\t5 X 7 = 35\t6 X 7 = 42\t7 X 7 = 49\t8 X 7 = 56\t9 X 7 = 63\t\n",
      "\n",
      "2 X 8 = 16\t3 X 8 = 24\t4 X 8 = 32\t5 X 8 = 40\t6 X 8 = 48\t7 X 8 = 56\t8 X 8 = 64\t9 X 8 = 72\t\n",
      "\n",
      "2 X 9 = 18\t3 X 9 = 27\t4 X 9 = 36\t5 X 9 = 45\t6 X 9 = 54\t7 X 9 = 63\t8 X 9 = 72\t9 X 9 = 81\t\n",
      "\n"
     ]
    }
   ],
   "source": [
    "# 구구단 2\n",
    "for i in range(1,10):\n",
    "   for j in range(2,10):\n",
    "      print(f'{j} X {i} = {j*i}', end='\\t')\n",
    "   print('\\n')"
   ]
  },
  {
   "cell_type": "code",
   "execution_count": 73,
   "metadata": {},
   "outputs": [
    {
     "name": "stdout",
     "output_type": "stream",
     "text": [
      "현재 이 과목의 최종 수강 신청자는 ['홍길동', '일지매', '유관순 '] 입니다\n",
      "\n",
      "\n",
      "['전우치', '일지매', '유관순 ']\n"
     ]
    }
   ],
   "source": [
    "# 이름 변경\n",
    "stu = ['홍길동' , '일지매' , '유관순 ']\n",
    "print(f'현재 이 과목의 최종 수강 신청자는 {stu} 입니다\\n')\n",
    "\n",
    "beforeName = input('변경 전 이름을 입력하세요: ')\n",
    "afterName = input('변경 후 이름을 입력하세요: ')\n",
    "\n",
    "for i in range(0,len(stu)):\n",
    "    if stu[i] == beforeName:\n",
    "        stu[i] = afterName\n",
    "\n",
    "print(f'\\n{stu}')"
   ]
  },
  {
   "cell_type": "code",
   "execution_count": 74,
   "metadata": {},
   "outputs": [
    {
     "name": "stdout",
     "output_type": "stream",
     "text": [
      "1\n",
      "3\n",
      "5\n",
      "7\n",
      "9\n"
     ]
    }
   ],
   "source": [
    "# 홀수 출력\n",
    "num = int(input('숫자를 입력하세요: '))\n",
    "\n",
    "for i in range(1,num+1):\n",
    "    if i % 2 != 0:\n",
    "        print(i)"
   ]
  },
  {
   "cell_type": "code",
   "execution_count": 75,
   "metadata": {},
   "outputs": [
    {
     "name": "stdout",
     "output_type": "stream",
     "text": [
      "1 페이지의 1 번글입니다^^\n",
      "1 페이지의 2 번글입니다^^\n",
      "1 페이지의 3 번글입니다^^\n",
      "1 페이지의 4 번글입니다^^\n",
      "1 페이지의 5 번글입니다^^\n",
      "\n",
      "\n",
      "\n",
      "2 페이지의 1 번글입니다^^\n",
      "2 페이지의 2 번글입니다^^\n",
      "2 페이지의 3 번글입니다^^\n",
      "2 페이지의 4 번글입니다^^\n",
      "2 페이지의 5 번글입니다^^\n",
      "\n",
      "\n",
      "\n",
      "3 페이지의 1 번글입니다^^\n",
      "3 페이지의 2 번글입니다^^\n",
      "3 페이지의 3 번글입니다^^\n",
      "3 페이지의 4 번글입니다^^\n",
      "3 페이지의 5 번글입니다^^\n",
      "\n",
      "\n",
      "\n"
     ]
    }
   ],
   "source": [
    "# 페이지 출력\n",
    "for i in range(1,4):\n",
    "    for j in range(1,6):\n",
    "        print(f'{i} 페이지의 {j} 번글a입니다^^')\n",
    "    print('\\n\\n')"
   ]
  },
  {
   "cell_type": "code",
   "execution_count": 77,
   "metadata": {},
   "outputs": [
    {
     "name": "stdout",
     "output_type": "stream",
     "text": [
      "0반 : 홍길동\n",
      "0반 : 일지매\n",
      "0반 : 전우치\n",
      "===============\n",
      "1반 : 유관순\n",
      "1반 : 신사임당\n",
      "1반 : 어우동\n",
      "===============\n",
      "2반 : 강감찬\n",
      "2반 : 광개토대왕\n",
      "2반 : 김구\n"
     ]
    }
   ],
   "source": [
    "# 교실 출력\n",
    "list = [['홍길동','일지매','전우치'],['유관순','신사임당','어우동'],['강감찬','광개토대왕','김구']]\n",
    "\n",
    "for i in range(0,3):\n",
    "    for j in range(0,3):\n",
    "        print(f'{i}반 : {list[i][j]}')\n",
    "    if i != 2:\n",
    "        print('===============')"
   ]
  }
 ],
 "metadata": {
  "kernelspec": {
   "display_name": "base",
   "language": "python",
   "name": "python3"
  },
  "language_info": {
   "name": "python",
   "version": "3.9.13"
  },
  "orig_nbformat": 4
 },
 "nbformat": 4,
 "nbformat_minor": 2
}
