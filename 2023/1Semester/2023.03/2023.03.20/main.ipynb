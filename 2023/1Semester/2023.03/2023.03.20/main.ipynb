{
 "cells": [
  {
   "cell_type": "code",
   "execution_count": 11,
   "metadata": {},
   "outputs": [
    {
     "name": "stdout",
     "output_type": "stream",
     "text": [
      "0으로 나눌 수 없습니다.\n"
     ]
    }
   ],
   "source": [
    "# 나누기\n",
    "y = [10, 20, 30]\n",
    "try:\n",
    "    a, b = map(int, input().split())\n",
    "    y[a] /= b\n",
    "except ZeroDivisionError: # 0으로 나눠서 에러가 발생\n",
    "    print('0으로 나눌 수 없습니다.')\n",
    "except IndexError: # 범위를 벗어난 인덱스에 접근하여 에러가 발생\n",
    "    print('잘못된 인덱스입니다.')\n",
    "else:\n",
    "    print(f'y[a] / b = {int(y[a])}')\n"
   ]
  },
  {
   "cell_type": "code",
   "execution_count": 13,
   "metadata": {},
   "outputs": [
    {
     "name": "stdout",
     "output_type": "stream",
     "text": [
      "{'red': 0, 'green': 1, 'blue': 2}\n",
      "해당 키는 딕셔너리에 존재하지 않습니다.\n"
     ]
    }
   ],
   "source": [
    "# 예외 처리 찾아보기\n",
    "try:\n",
    "    color = {'red':0, 'green':1, 'blue':2}\n",
    "    print(color)\n",
    "    key = input('enter a color. > ')\n",
    "    print(f'color number : {color[key]}')\n",
    "except KeyError:\n",
    "    print('해당 키는 딕셔너리에 존재하지 않습니다.')"
   ]
  },
  {
   "cell_type": "code",
   "execution_count": null,
   "metadata": {},
   "outputs": [
    {
     "name": "stdout",
     "output_type": "stream",
     "text": [
      "홍길동\n",
      "\n",
      "일지매\n",
      "\n",
      "전우치\n",
      "\n",
      "강감찬\n",
      "\n",
      "신사임당\n",
      "\n",
      "\n",
      "모든 행이 출력 되었습니다.\n"
     ]
    }
   ],
   "source": [
    "# 파일 읽어 출력\n",
    "try:\n",
    "    list = []\n",
    "    with open('예외처리연습.txt', 'r') as f:    \n",
    "        for s in f:    \n",
    "            list.append(s.strip('\\n'))\n",
    "    index = int(input())\n",
    "    for i in range(0, index):\n",
    "        print(f'{list[i]}\\n')\n",
    "except:\n",
    "    print('\\n\\n모든 행이 출력 되었습니다.')"
   ]
  }
 ],
 "metadata": {
  "kernelspec": {
   "display_name": "base",
   "language": "python",
   "name": "python3"
  },
  "language_info": {
   "codemirror_mode": {
    "name": "ipython",
    "version": 3
   },
   "file_extension": ".py",
   "mimetype": "text/x-python",
   "name": "python",
   "nbconvert_exporter": "python",
   "pygments_lexer": "ipython3",
   "version": "3.9.13"
  },
  "orig_nbformat": 4
 },
 "nbformat": 4,
 "nbformat_minor": 2
}
