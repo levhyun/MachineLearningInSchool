{
 "cells": [
  {
   "cell_type": "code",
   "execution_count": 13,
   "metadata": {},
   "outputs": [
    {
     "name": "stdout",
     "output_type": "stream",
     "text": [
      "1 2 3 4 5 "
     ]
    }
   ],
   "source": [
    "# 1 ~ 5\n",
    "a = 1\n",
    "while a < 6:\n",
    "    print(a, end=\" \")\n",
    "    a += 1"
   ]
  },
  {
   "cell_type": "code",
   "execution_count": 14,
   "metadata": {},
   "outputs": [
    {
     "name": "stdout",
     "output_type": "stream",
     "text": [
      "3 13 23 33 43 53 63 73 "
     ]
    }
   ],
   "source": [
    "a = 0\n",
    "while True:\n",
    "    if a == 74:\n",
    "        break\n",
    "    if a == 3 or a%10 == 3:\n",
    "        print(a, end=\" \")\n",
    "    a += 1"
   ]
  },
  {
   "cell_type": "code",
   "execution_count": 16,
   "metadata": {},
   "outputs": [
    {
     "name": "stdout",
     "output_type": "stream",
     "text": [
      "5 X 1 = 5\n",
      "5 X 2 = 10\n",
      "5 X 3 = 15\n",
      "5 X 4 = 20\n",
      "5 X 5 = 25\n",
      "5 X 6 = 30\n",
      "5 X 7 = 35\n",
      "5 X 8 = 40\n",
      "5 X 9 = 45\n"
     ]
    }
   ],
   "source": [
    "# 구구단\n",
    "num = int(input('출력을 원하시는 단을 입력하세요:  '))\n",
    "a = 1\n",
    "while a < 10:\n",
    "    print(f'{num} X {a} = {num * a}')\n",
    "    a += 1"
   ]
  },
  {
   "cell_type": "code",
   "execution_count": 15,
   "metadata": {},
   "outputs": [
    {
     "name": "stdout",
     "output_type": "stream",
     "text": [
      "2 5\n",
      "4 4\n",
      "8 3\n",
      "16 2\n",
      "32 1\n"
     ]
    }
   ],
   "source": [
    "# i, j\n",
    "i, j = 2, 5\n",
    "while True:\n",
    "    if i == 32 and j == 1:\n",
    "        print(f'{i} {j}')\n",
    "        break\n",
    "    print(f'{i} {j}')\n",
    "    i *= 2\n",
    "    j -= 1"
   ]
  },
  {
   "cell_type": "code",
   "execution_count": 17,
   "metadata": {},
   "outputs": [
    {
     "name": "stdout",
     "output_type": "stream",
     "text": [
      "8650\n",
      "7300\n",
      "5950\n",
      "4600\n",
      "3250\n",
      "1900\n",
      "550\n"
     ]
    }
   ],
   "source": [
    "# 교통 카드\n",
    "money = int(input('충전할 금액은? '))\n",
    "while True:\n",
    "    money -= 1350\n",
    "    if money < 0:\n",
    "        break\n",
    "    print(money)"
   ]
  },
  {
   "cell_type": "code",
   "execution_count": 22,
   "metadata": {},
   "outputs": [
    {
     "name": "stdout",
     "output_type": "stream",
     "text": [
      "1 2 4 5 6 7 8 9 10 11 12 14 "
     ]
    }
   ],
   "source": [
    "# a ~ b -> 3 X\n",
    "a = int(input('a = '))\n",
    "b = int(input('b = '))\n",
    "while a <= b:\n",
    "    if a != 3 and a%10 != 3:\n",
    "        print(a, end=\" \")\n",
    "    a += 1"
   ]
  },
  {
   "cell_type": "code",
   "execution_count": 24,
   "metadata": {},
   "outputs": [
    {
     "name": "stdout",
     "output_type": "stream",
     "text": [
      "1.짜장면 - 5,000원          2.짬뽕 - 6,000원\n",
      "3.군만두 - 8,000원          4.탕수육 - 10,000원\n",
      "\n",
      "\n",
      "주문하신 메뉴는 짜장면이고 주문 수량은 2 그릇이며 주문금액은 10000 원 입니다\n",
      "\n",
      "추가주문\n",
      "\n",
      "1.짜장면 - 5,000원          2.짬뽕 - 6,000원\n",
      "3.군만두 - 8,000원          4.탕수육 - 10,000원\n",
      "\n",
      "\n",
      "주문하신 메뉴는 짬뽕이고 주문 수량은 1 그릇이며 주문금액은 6000 원 입니다\n",
      "\n",
      "추가주문\n",
      "\n",
      "1.짜장면 - 5,000원          2.짬뽕 - 6,000원\n",
      "3.군만두 - 8,000원          4.탕수육 - 10,000원\n",
      "\n",
      "\n",
      "주문하신 메뉴는 탕수육이고 주문 수량은 1 그릇이며 주문금액은 10000 원 입니다\n",
      "\n",
      "[주문현황]\n",
      "[1]주문하신 메뉴는 짜장면이고 주문 수량은 2 그릇이며 주문금액은 10000 원 입니다\n",
      "[1]주문하신 메뉴는 짬뽕이고 주문 수량은 1 그릇이며 주문금액은 6000 원 입니다\n",
      "[1]주문하신 메뉴는 탕수육이고 주문 수량은 1 그릇이며 주문금액은 10000 원 입니다\n"
     ]
    }
   ],
   "source": [
    "# 주문\n",
    "save = []\n",
    "menu = {'1':['짜장면',5000], '2':['짬뽕',6000], '3':['군만두',8000], '4':['탕수육',10000]}\n",
    "maxCounter = 3\n",
    "cnt = 1\n",
    "\n",
    "def list():\n",
    "    print('1.짜장면 - 5,000원          2.짬뽕 - 6,000원\\n3.군만두 - 8,000원          4.탕수육 - 10,000원\\n')\n",
    "\n",
    "def result(name, quantity, price):\n",
    "    res = f'주문하신 메뉴는 {name}이고 주문 수량은 {quantity} 그릇이며 주문금액은 {price*quantity} 원 입니다'\n",
    "    save.append(f'[1]{res}')\n",
    "    print(f'\\n{res}\\n')\n",
    "\n",
    "def set(number):\n",
    "    return menu[number][0], menu[number][1]\n",
    "\n",
    "def loop():\n",
    "    while True:\n",
    "        add = input('3.추가 주문을 하시겠습니까? (Y / N) :')\n",
    "        if add == 'Y' or add == 'y':\n",
    "            return 1\n",
    "        elif add == 'N' or add == 'n':\n",
    "            return 0\n",
    "        else:\n",
    "            pass\n",
    "\n",
    "def check():\n",
    "    select = loop()\n",
    "    if select == 0:\n",
    "        print('[주문현황]')\n",
    "        for str in save:\n",
    "            print(str)\n",
    "        return -1\n",
    "    elif select == 1:\n",
    "        if maxCounter == cnt:\n",
    "            print('더이상 추가 주문을 할 수 없습니다!')\n",
    "            return 0\n",
    "        else:\n",
    "            print('추가주문\\n')\n",
    "            return 1\n",
    "\n",
    "while True:\n",
    "    list()\n",
    "\n",
    "    number = input('1. 위 메뉴 중 주문할 메뉴의 번호를 쓰세요:  ')\n",
    "    quantity = int(input('2. 위 메뉴의 주문 수량을 쓰세요: '))\n",
    "    name, price = set(number)\n",
    "\n",
    "    result(name, quantity, price)\n",
    "\n",
    "    while True:\n",
    "        chk = check()\n",
    "        if chk == -1:\n",
    "            exit(1)\n",
    "        elif chk == 1:\n",
    "            cnt += 1\n",
    "            break\n",
    "        elif chk == 0:\n",
    "            pass"
   ]
  }
 ],
 "metadata": {
  "kernelspec": {
   "display_name": "base",
   "language": "python",
   "name": "python3"
  },
  "language_info": {
   "codemirror_mode": {
    "name": "ipython",
    "version": 3
   },
   "file_extension": ".py",
   "mimetype": "text/x-python",
   "name": "python",
   "nbconvert_exporter": "python",
   "pygments_lexer": "ipython3",
   "version": "3.9.13"
  },
  "orig_nbformat": 4
 },
 "nbformat": 4,
 "nbformat_minor": 2
}
