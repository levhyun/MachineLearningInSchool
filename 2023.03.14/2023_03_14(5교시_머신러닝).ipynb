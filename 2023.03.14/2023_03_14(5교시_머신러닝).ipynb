{
  "nbformat": 4,
  "nbformat_minor": 0,
  "metadata": {
    "colab": {
      "provenance": [],
      "authorship_tag": "ABX9TyPzuLN+SwqQOg1ATnGiwz2n",
      "include_colab_link": true
    },
    "kernelspec": {
      "name": "python3",
      "display_name": "Python 3"
    },
    "language_info": {
      "name": "python"
    }
  },
  "cells": [
    {
      "cell_type": "markdown",
      "metadata": {
        "id": "view-in-github",
        "colab_type": "text"
      },
      "source": [
        "<a href=\"https://colab.research.google.com/github/levhyun/MachineLearningInSchool/blob/main/2023.03.14/2023_03_14(5%EA%B5%90%EC%8B%9C_%EB%A8%B8%EC%8B%A0%EB%9F%AC%EB%8B%9D).ipynb\" target=\"_parent\"><img src=\"https://colab.research.google.com/assets/colab-badge.svg\" alt=\"Open In Colab\"/></a>"
      ]
    },
    {
      "cell_type": "markdown",
      "source": [
        "# 2404 구자현\n",
        "대구 소프트웨어 마이스터 고등학교 재학중인 고등학생 개발자입니다.\n",
        "\n",
        "```\n",
        "I'm a growing developer who always does my best🔥\n",
        "```\n",
        "\n",
        "![](https://api.cdn.visitjeju.net/photomng/imgpath/202101/09/df72d9ff-df5a-41ee-b4bc-933c57580879.jpg)"
      ],
      "metadata": {
        "id": "C-JpUjiTaeRg"
      }
    },
    {
      "cell_type": "code",
      "execution_count": null,
      "metadata": {
        "colab": {
          "base_uri": "https://localhost:8080/"
        },
        "id": "19JSjDYgYGv_",
        "outputId": "62296225-a2aa-4f1c-9fcc-049e731017df"
      },
      "outputs": [
        {
          "output_type": "stream",
          "name": "stdout",
          "text": [
            "hello world\n"
          ]
        }
      ],
      "source": [
        "print('hello world')"
      ]
    }
  ]
}