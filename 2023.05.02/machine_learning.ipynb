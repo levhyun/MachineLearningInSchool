{
 "cells": [
  {
   "cell_type": "code",
   "execution_count": 1,
   "metadata": {},
   "outputs": [
    {
     "name": "stderr",
     "output_type": "stream",
     "text": [
      "Downloading...\n",
      "From: https://bit.ly/3pK7iuu\n",
      "To: c:\\Users\\g8808\\Documents\\GitHub\\MachineLearningInSchool\\2023.05.02\\ns_book7.csv\n",
      "100%|██████████| 53.8M/53.8M [00:02<00:00, 21.2MB/s]\n"
     ]
    },
    {
     "data": {
      "text/plain": [
       "'ns_book7.csv'"
      ]
     },
     "execution_count": 1,
     "metadata": {},
     "output_type": "execute_result"
    }
   ],
   "source": [
    "import gdown\n",
    "\n",
    "gdown.download('https://bit.ly/3pK7iuu', 'ns_book7.csv', quiet=False)"
   ]
  },
  {
   "cell_type": "code",
   "execution_count": 2,
   "metadata": {},
   "outputs": [
    {
     "data": {
      "text/html": [
       "<div>\n",
       "<style scoped>\n",
       "    .dataframe tbody tr th:only-of-type {\n",
       "        vertical-align: middle;\n",
       "    }\n",
       "\n",
       "    .dataframe tbody tr th {\n",
       "        vertical-align: top;\n",
       "    }\n",
       "\n",
       "    .dataframe thead th {\n",
       "        text-align: right;\n",
       "    }\n",
       "</style>\n",
       "<table border=\"1\" class=\"dataframe\">\n",
       "  <thead>\n",
       "    <tr style=\"text-align: right;\">\n",
       "      <th></th>\n",
       "      <th>번호</th>\n",
       "      <th>도서명</th>\n",
       "      <th>저자</th>\n",
       "      <th>출판사</th>\n",
       "      <th>발행년도</th>\n",
       "      <th>ISBN</th>\n",
       "      <th>세트 ISBN</th>\n",
       "      <th>부가기호</th>\n",
       "      <th>권</th>\n",
       "      <th>주제분류번호</th>\n",
       "      <th>도서권수</th>\n",
       "      <th>대출건수</th>\n",
       "      <th>등록일자</th>\n",
       "    </tr>\n",
       "  </thead>\n",
       "  <tbody>\n",
       "    <tr>\n",
       "      <th>0</th>\n",
       "      <td>1</td>\n",
       "      <td>인공지능과 흙</td>\n",
       "      <td>김동훈 지음</td>\n",
       "      <td>민음사</td>\n",
       "      <td>2021</td>\n",
       "      <td>9788937444319</td>\n",
       "      <td>NaN</td>\n",
       "      <td>NaN</td>\n",
       "      <td>NaN</td>\n",
       "      <td>NaN</td>\n",
       "      <td>1</td>\n",
       "      <td>0</td>\n",
       "      <td>2021-03-19</td>\n",
       "    </tr>\n",
       "    <tr>\n",
       "      <th>1</th>\n",
       "      <td>2</td>\n",
       "      <td>가짜 행복 권하는 사회</td>\n",
       "      <td>김태형 지음</td>\n",
       "      <td>갈매나무</td>\n",
       "      <td>2021</td>\n",
       "      <td>9791190123969</td>\n",
       "      <td>NaN</td>\n",
       "      <td>NaN</td>\n",
       "      <td>NaN</td>\n",
       "      <td>NaN</td>\n",
       "      <td>1</td>\n",
       "      <td>0</td>\n",
       "      <td>2021-03-19</td>\n",
       "    </tr>\n",
       "    <tr>\n",
       "      <th>2</th>\n",
       "      <td>3</td>\n",
       "      <td>나도 한 문장 잘 쓰면 바랄 게 없겠네</td>\n",
       "      <td>김선영 지음</td>\n",
       "      <td>블랙피쉬</td>\n",
       "      <td>2021</td>\n",
       "      <td>9788968332982</td>\n",
       "      <td>NaN</td>\n",
       "      <td>NaN</td>\n",
       "      <td>NaN</td>\n",
       "      <td>NaN</td>\n",
       "      <td>1</td>\n",
       "      <td>0</td>\n",
       "      <td>2021-03-19</td>\n",
       "    </tr>\n",
       "    <tr>\n",
       "      <th>3</th>\n",
       "      <td>4</td>\n",
       "      <td>예루살렘 해변</td>\n",
       "      <td>이도 게펜 지음, 임재희 옮김</td>\n",
       "      <td>문학세계사</td>\n",
       "      <td>2021</td>\n",
       "      <td>9788970759906</td>\n",
       "      <td>NaN</td>\n",
       "      <td>NaN</td>\n",
       "      <td>NaN</td>\n",
       "      <td>NaN</td>\n",
       "      <td>1</td>\n",
       "      <td>0</td>\n",
       "      <td>2021-03-19</td>\n",
       "    </tr>\n",
       "    <tr>\n",
       "      <th>4</th>\n",
       "      <td>5</td>\n",
       "      <td>김성곤의 중국한시기행 : 장강·황하 편</td>\n",
       "      <td>김성곤 지음</td>\n",
       "      <td>김영사</td>\n",
       "      <td>2021</td>\n",
       "      <td>9788934990833</td>\n",
       "      <td>NaN</td>\n",
       "      <td>NaN</td>\n",
       "      <td>NaN</td>\n",
       "      <td>NaN</td>\n",
       "      <td>1</td>\n",
       "      <td>0</td>\n",
       "      <td>2021-03-19</td>\n",
       "    </tr>\n",
       "  </tbody>\n",
       "</table>\n",
       "</div>"
      ],
      "text/plain": [
       "   번호                    도서명                저자    출판사  발행년도           ISBN  \\\n",
       "0   1                인공지능과 흙            김동훈 지음    민음사  2021  9788937444319   \n",
       "1   2           가짜 행복 권하는 사회            김태형 지음   갈매나무  2021  9791190123969   \n",
       "2   3  나도 한 문장 잘 쓰면 바랄 게 없겠네            김선영 지음   블랙피쉬  2021  9788968332982   \n",
       "3   4                예루살렘 해변  이도 게펜 지음, 임재희 옮김  문학세계사  2021  9788970759906   \n",
       "4   5  김성곤의 중국한시기행 : 장강·황하 편            김성곤 지음    김영사  2021  9788934990833   \n",
       "\n",
       "  세트 ISBN 부가기호    권 주제분류번호  도서권수  대출건수        등록일자  \n",
       "0     NaN  NaN  NaN    NaN     1     0  2021-03-19  \n",
       "1     NaN  NaN  NaN    NaN     1     0  2021-03-19  \n",
       "2     NaN  NaN  NaN    NaN     1     0  2021-03-19  \n",
       "3     NaN  NaN  NaN    NaN     1     0  2021-03-19  \n",
       "4     NaN  NaN  NaN    NaN     1     0  2021-03-19  "
      ]
     },
     "execution_count": 2,
     "metadata": {},
     "output_type": "execute_result"
    }
   ],
   "source": [
    "import pandas as pd\n",
    "\n",
    "ns_book7 = pd.read_csv('ns_book7.csv', low_memory=False)\n",
    "ns_book7.head()"
   ]
  },
  {
   "cell_type": "code",
   "execution_count": 3,
   "metadata": {},
   "outputs": [],
   "source": [
    "from sklearn.model_selection import train_test_split\n",
    "\n",
    "train_set, test_set = train_test_split(ns_book7, random_state=42)"
   ]
  },
  {
   "cell_type": "code",
   "execution_count": 4,
   "metadata": {},
   "outputs": [
    {
     "name": "stdout",
     "output_type": "stream",
     "text": [
      "282577 94193\n"
     ]
    }
   ],
   "source": [
    "print(len(train_set), len(test_set))"
   ]
  },
  {
   "cell_type": "code",
   "execution_count": 7,
   "metadata": {},
   "outputs": [
    {
     "name": "stdout",
     "output_type": "stream",
     "text": [
      "(282577, 1) (282577,)\n"
     ]
    }
   ],
   "source": [
    "X_train = train_set[['도서권수']]\n",
    "y_train = train_set['대출건수']\n",
    "\n",
    "print(X_train.shape, y_train.shape)"
   ]
  },
  {
   "cell_type": "code",
   "execution_count": 8,
   "metadata": {},
   "outputs": [
    {
     "data": {
      "text/plain": [
       "LinearRegression()"
      ]
     },
     "execution_count": 8,
     "metadata": {},
     "output_type": "execute_result"
    }
   ],
   "source": [
    "from sklearn.linear_model import LinearRegression\n",
    "\n",
    "lr = LinearRegression()\n",
    "lr.fit(X_train, y_train)"
   ]
  },
  {
   "cell_type": "code",
   "execution_count": 9,
   "metadata": {},
   "outputs": [
    {
     "data": {
      "text/plain": [
       "0.10025676249337112"
      ]
     },
     "execution_count": 9,
     "metadata": {},
     "output_type": "execute_result"
    }
   ],
   "source": [
    "X_test = test_set[['도서권수']]\n",
    "y_test = test_set['대출건수']\n",
    "\n",
    "lr.score(X_test, y_test)"
   ]
  },
  {
   "cell_type": "code",
   "execution_count": 13,
   "metadata": {},
   "outputs": [
    {
     "data": {
      "text/plain": [
       "1.0"
      ]
     },
     "execution_count": 13,
     "metadata": {},
     "output_type": "execute_result"
    }
   ],
   "source": [
    "lr.fit(y_train.to_frame(), y_train)\n",
    "lr.score(y_test.to_frame(), y_test)"
   ]
  },
  {
   "cell_type": "code",
   "execution_count": 11,
   "metadata": {},
   "outputs": [
    {
     "name": "stdout",
     "output_type": "stream",
     "text": [
      "[1.] 5.879741138414829e-13\n"
     ]
    }
   ],
   "source": [
    "print(lr.coef_, lr.intercept_)"
   ]
  },
  {
   "cell_type": "code",
   "execution_count": 40,
   "metadata": {},
   "outputs": [],
   "source": [
    "borrow_mean = ns_book7['대출건수'].mean()\n",
    "y_train_c = y_train > borrow_mean\n",
    "y_test_c = y_test > borrow_mean"
   ]
  },
  {
   "cell_type": "code",
   "execution_count": 52,
   "metadata": {},
   "outputs": [
    {
     "data": {
      "text/plain": [
       "0.7106154385145393"
      ]
     },
     "execution_count": 52,
     "metadata": {},
     "output_type": "execute_result"
    }
   ],
   "source": [
    "from sklearn.linear_model import LogisticRegression\n",
    "\n",
    "logr = LogisticRegression()\n",
    "logr.fit(X_train, y_train_c)\n",
    "logr.score(X_test, y_test_c)"
   ]
  },
  {
   "cell_type": "code",
   "execution_count": 23,
   "metadata": {},
   "outputs": [
    {
     "data": {
      "text/plain": [
       "False    65337\n",
       "True     28856\n",
       "Name: 대출건수, dtype: int64"
      ]
     },
     "execution_count": 23,
     "metadata": {},
     "output_type": "execute_result"
    }
   ],
   "source": [
    "y_test_c.value_counts()"
   ]
  },
  {
   "cell_type": "code",
   "execution_count": 36,
   "metadata": {},
   "outputs": [
    {
     "data": {
      "text/plain": [
       "0.6936502712515792"
      ]
     },
     "execution_count": 36,
     "metadata": {},
     "output_type": "execute_result"
    }
   ],
   "source": [
    "from sklearn.dummy import DummyClassifier\n",
    "\n",
    "dc = DummyClassifier()\n",
    "dc.fit(X_train, y_train_c)\n",
    "dc.score(X_test, y_test_c)"
   ]
  },
  {
   "cell_type": "code",
   "execution_count": 41,
   "metadata": {},
   "outputs": [
    {
     "data": {
      "text/plain": [
       "LinearRegression()"
      ]
     },
     "execution_count": 41,
     "metadata": {},
     "output_type": "execute_result"
    }
   ],
   "source": [
    "lr.fit(X_train, y_train)"
   ]
  },
  {
   "cell_type": "code",
   "execution_count": 42,
   "metadata": {},
   "outputs": [],
   "source": [
    "y_pred = lr.predict(X_test)"
   ]
  },
  {
   "cell_type": "code",
   "execution_count": 43,
   "metadata": {},
   "outputs": [
    {
     "data": {
      "text/plain": [
       "10.35809175285386"
      ]
     },
     "execution_count": 43,
     "metadata": {},
     "output_type": "execute_result"
    }
   ],
   "source": [
    "from sklearn.metrics import mean_absolute_error\n",
    "\n",
    "mean_absolute_error(y_test, y_pred)"
   ]
  }
 ],
 "metadata": {
  "kernelspec": {
   "display_name": "base",
   "language": "python",
   "name": "python3"
  },
  "language_info": {
   "codemirror_mode": {
    "name": "ipython",
    "version": 3
   },
   "file_extension": ".py",
   "mimetype": "text/x-python",
   "name": "python",
   "nbconvert_exporter": "python",
   "pygments_lexer": "ipython3",
   "version": "3.9.13"
  },
  "orig_nbformat": 4
 },
 "nbformat": 4,
 "nbformat_minor": 2
}
