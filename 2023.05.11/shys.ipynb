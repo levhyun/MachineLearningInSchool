{
 "cells": [
  {
   "cell_type": "code",
   "execution_count": 62,
   "metadata": {},
   "outputs": [
    {
     "name": "stdout",
     "output_type": "stream",
     "text": [
      "{'Country': ['Canada', 'United Kingdom of Great Britain and Northern Ireland', 'Israel', 'United States of America', 'Germany', 'India', 'Netherlands', 'Croatia', 'Australia', 'Russian Federation', 'Czech Republic', 'Austria', 'Serbia', 'Italy', 'Ireland', 'Poland', 'Slovenia', 'Iraq', 'Sweden', 'Madagascar', 'Norway', 'Taiwan', 'Hong Kong (S.A.R.)', 'Mexico', 'France', 'Brazil', 'Lithuania', 'Uruguay', 'Denmark', 'Spain', 'Egypt', 'Turkey', 'South Africa', 'Ukraine', 'Finland', 'Romania', 'Portugal', 'Singapore', 'Oman', 'Belgium', 'Chile', 'Bulgaria', 'Latvia', 'Philippines', 'Greece', 'Belarus', 'Saudi Arabia', 'Kenya', 'Switzerland', 'Iceland', 'Viet Nam', 'Thailand', 'China', 'Montenegro', 'Slovakia', 'Japan', 'Luxembourg', 'Turkmenistan', 'Argentina', 'Hungary', 'Tunisia', 'Bangladesh', 'Maldives', 'Dominican Republic', 'Jordan', 'Pakistan', 'Nepal', 'Iran, Islamic Republic of...', 'Indonesia', 'Ecuador', 'Bosnia and Herzegovina', 'Armenia', 'Colombia', 'Kazakhstan', 'South Korea', 'Costa Rica', 'Honduras', 'Mauritius', 'Estonia', 'Algeria', 'Trinidad and Tobago', 'Mali', 'Morocco', 'Swaziland', 'New Zealand', 'The former Yugoslav Republic of Macedonia', 'Afghanistan', 'Cyprus', 'United Arab Emirates', 'Peru', 'Uzbekistan', 'Ethiopia', 'Bahrain', 'Malta', 'Nicaragua', 'Andorra', 'Republic of Korea', 'Lebanon', 'Belize', 'Zambia', 'Bolivia', 'Malaysia', 'Sri Lanka', \"Lao People's Democratic Republic\", 'Guatemala', 'Azerbaijan', 'Suriname', 'El Salvador', 'Syrian Arab Republic', 'Qatar', 'Nigeria', 'Kyrgyzstan', 'Zimbabwe', 'Rwanda', 'Georgia', 'Cambodia', 'Malawi', 'Yemen', 'Fiji', 'Nomadic', 'Uganda', 'Albania', 'Timor-Leste', 'Mongolia', 'Republic of Moldova', 'Tajikistan', 'Ghana', 'United Republic of Tanzania', 'Myanmar', 'Kuwait', 'Cameroon', 'Kosovo', 'Jamaica', 'Benin', 'Botswana', 'Niger', 'Palestine', 'Cape Verde', 'Libyan Arab Jamahiriya', 'Venezuela, Bolivarian Republic of...', 'Senegal', 'Cuba', 'Togo', 'Angola', 'Isle of Man', 'Panama', 'Bahamas', 'Paraguay', 'Sudan', 'Liberia', 'Bhutan', 'Democratic Republic of the Congo', \"Côte d'Ivoire\", 'Barbados', 'Congo, Republic of the...', 'Namibia', 'Somalia', 'Sierra Leone', 'Mozambique', 'Lesotho', 'Chad', 'North Korea', 'Antigua and Barbuda', 'Papua New Guinea', 'Palau', 'Guinea', 'Haiti', 'Gabon', 'Mauritania', 'San Marino', 'Guyana', 'Saint Lucia', 'Burkina Faso', 'Brunei Darussalam', 'Gambia', 'Monaco', 'Djibouti', 'Seychelles', 'Solomon Islands', 'Saint Kitts and Nevis']}\n",
      "False [0] 1\n"
     ]
    }
   ],
   "source": [
    "import pandas as pd\n",
    "import numpy as np\n",
    "\n",
    "data = pd.read_csv('survey_results_public.csv')\n",
    "data_columns = data.columns\n",
    "countrys = data.drop_duplicates(subset='Country')['Country']\n",
    "country_count = countrys.count()\n",
    "\n",
    "developer_list = []\n",
    "for country in list(countrys)[1:]:\n",
    "    developer_list.append(data[data['Country'] == country]['Country'].count())\n",
    "\n",
    "countrys_dict = {'Country':list(countrys)[1:]}\n",
    "developer_dict = {'Count':developer_list}\n",
    "print(countrys_dict)\n",
    "\n",
    "# index배열 만들기\n",
    "\n",
    "# developer = pd.DataFrame(index=\"\"\"인덱스배열\"\"\".index, columns={'Country'})\n",
    "# pd.merge(developer, left_on='Country', right_on='Count', how='outer')\n",
    "# developer"
   ]
  }
 ],
 "metadata": {
  "kernelspec": {
   "display_name": "base",
   "language": "python",
   "name": "python3"
  },
  "language_info": {
   "codemirror_mode": {
    "name": "ipython",
    "version": 3
   },
   "file_extension": ".py",
   "mimetype": "text/x-python",
   "name": "python",
   "nbconvert_exporter": "python",
   "pygments_lexer": "ipython3",
   "version": "3.9.13"
  },
  "orig_nbformat": 4
 },
 "nbformat": 4,
 "nbformat_minor": 2
}
