{
  "nbformat": 4,
  "nbformat_minor": 0,
  "metadata": {
    "colab": {
      "provenance": [],
      "authorship_tag": "ABX9TyNuBIAUmjqc74eBxL5NyCLD",
      "include_colab_link": true
    },
    "kernelspec": {
      "name": "python3",
      "display_name": "Python 3"
    },
    "language_info": {
      "name": "python"
    }
  },
  "cells": [
    {
      "cell_type": "markdown",
      "metadata": {
        "id": "view-in-github",
        "colab_type": "text"
      },
      "source": [
        "<a href=\"https://colab.research.google.com/github/levhyun/MachineLearningInSchool/blob/main/2023.03.15/2023_03_15.ipynb\" target=\"_parent\"><img src=\"https://colab.research.google.com/assets/colab-badge.svg\" alt=\"Open In Colab\"/></a>"
      ]
    },
    {
      "cell_type": "markdown",
      "source": [
        "# API 사용하기"
      ],
      "metadata": {
        "id": "fCCWfPtpAXJp"
      }
    },
    {
      "cell_type": "code",
      "execution_count": 23,
      "metadata": {
        "colab": {
          "base_uri": "https://localhost:8080/"
        },
        "id": "MV59xfKKARvw",
        "outputId": "2bb99dbc-097f-4923-9251-e785ea5f2104"
      },
      "outputs": [
        {
          "output_type": "stream",
          "name": "stdout",
          "text": [
            "type = <class 'dict'>\n",
            "d = {'name': '혼자 공부하는 데이터 분석'}\n",
            "\n",
            "d[\"name\"] = 혼자 공부하는 데이터 분석\n"
          ]
        }
      ],
      "source": [
        "d = {\"name\":\"혼자 공부하는 데이터 분석\"} # 딕셔너리\n",
        "print(f'type = {type(d)}\\nd = {d}\\n\\nd[\"name\"] = {d[\"name\"]}')"
      ]
    },
    {
      "cell_type": "code",
      "source": [
        "import json # json 라이브러리 호출\n",
        "d_str = json.dumps(d, ensure_ascii=False) # 딕션너리를 json으로 변환\n",
        "print(f'type = {type(d_str)}\\nd_str = {d_str}')"
      ],
      "metadata": {
        "colab": {
          "base_uri": "https://localhost:8080/"
        },
        "id": "5QL-dQWAA-bQ",
        "outputId": "f6e0fce5-76e5-437a-e96d-41293e30c6b5"
      },
      "execution_count": 43,
      "outputs": [
        {
          "output_type": "stream",
          "name": "stdout",
          "text": [
            "type = <class 'str'>\n",
            "d_str = {\"name\": \"혼자 공부하는 데이터 분석\"}\n"
          ]
        }
      ]
    },
    {
      "cell_type": "code",
      "source": [
        "import json # json 라이브러리 호출\n",
        "d2 = json.loads(d_str) # json을 딕셔너리로 변환\n",
        "print(f'type = {type(d2)}\\nd2 = {d2}\\n\\nd2[\"name\"] = {d2[\"name\"]}')"
      ],
      "metadata": {
        "colab": {
          "base_uri": "https://localhost:8080/"
        },
        "id": "VsogVglIA-lX",
        "outputId": "5ffbcf61-21e8-4ce6-fb21-e746f883f716"
      },
      "execution_count": 60,
      "outputs": [
        {
          "output_type": "stream",
          "name": "stdout",
          "text": [
            "type = <class 'dict'>\n",
            "d2 = {'name': '혼자 공부하는 데이터 분석'}\n",
            "\n",
            "d2[\"name\"] = 혼자 공부하는 데이터 분석\n"
          ]
        }
      ]
    },
    {
      "cell_type": "code",
      "source": [
        "import json # json 라이브러리 호출\n",
        "d3 = json.loads('{\"name\":\"혼자 공부하는 데이터 분석\", \"author\":\"박해선\", \"year\":2022}')\n",
        "print(f'd3 = {d3}\\nd3[\"name\"] : {d3[\"name\"]}\\nd3[\"author\"] : {d3[\"author\"]}\\nd3[\"year\"] : {d3[\"year\"]}')"
      ],
      "metadata": {
        "colab": {
          "base_uri": "https://localhost:8080/"
        },
        "id": "m6_QaJY8A-qH",
        "outputId": "5320f2b9-94db-4ea5-adee-9b7395d3316f"
      },
      "execution_count": 61,
      "outputs": [
        {
          "output_type": "stream",
          "name": "stdout",
          "text": [
            "d3 = {'name': '혼자 공부하는 데이터 분석', 'author': '박해선', 'year': 2022}\n",
            "d3[\"name\"] : 혼자 공부하는 데이터 분석\n",
            "d3[\"author\"] : 박해선\n",
            "d3[\"year\"] : 2022\n"
          ]
        }
      ]
    },
    {
      "cell_type": "code",
      "source": [
        "import json # json 라이브러리 호출\n",
        "d3 = json.loads('{\"name\":\"혼자 공부하는 데이터 분석\", \"author\":[\"박해선\",\"홍길동\"], \"year\":2022}')\n",
        "print(f'd3 = {d3}\\nd3[\"name\"] : {d3[\"name\"]}\\nd3[\"author\"] : {d3[\"author\"]}\\nd3[\"year\"] : {d3[\"year\"]}\\n\\nd3[\"author\"][0] = {d3[\"author\"][0]}\\nd3[\"author\"][1] = {d3[\"author\"][1]}')"
      ],
      "metadata": {
        "colab": {
          "base_uri": "https://localhost:8080/"
        },
        "id": "eDHYtGCwA-uR",
        "outputId": "5154b3c7-8f7d-45a3-9ee7-d08f23e303fd"
      },
      "execution_count": 62,
      "outputs": [
        {
          "output_type": "stream",
          "name": "stdout",
          "text": [
            "d3 = {'name': '혼자 공부하는 데이터 분석', 'author': ['박해선', '홍길동'], 'year': 2022}\n",
            "d3[\"name\"] : 혼자 공부하는 데이터 분석\n",
            "d3[\"author\"] : ['박해선', '홍길동']\n",
            "d3[\"year\"] : 2022\n",
            "\n",
            "d3[\"author\"][0] = 박해선\n",
            "d3[\"author\"][1] = 홍길동\n"
          ]
        }
      ]
    },
    {
      "cell_type": "code",
      "source": [
        "import json # json 라이브러리 호출\n",
        "d4_str = \"\"\"\n",
        "[\n",
        "    {\"name\":\"혼자 공부하는 데이터 분석\", \"author\":\"박해선\",\"year\":2022},\n",
        "    {\"name\":\"혼자 공부하는 머신러닝+딥러닝\", \"author\":\"박해선\",\"year\":2020}\n",
        "]\n",
        "\"\"\" # json 선언\n",
        "d4 = json.loads(d4_str)\n",
        "print(f'd4[0] : {d4[0]}\\nd4[1] : {d4[1]}')"
      ],
      "metadata": {
        "colab": {
          "base_uri": "https://localhost:8080/"
        },
        "id": "ntsYdK-5A-yi",
        "outputId": "4f1d4a45-49ea-4e37-bb40-2511e39d7030"
      },
      "execution_count": 63,
      "outputs": [
        {
          "output_type": "stream",
          "name": "stdout",
          "text": [
            "d4[0] : {'name': '혼자 공부하는 데이터 분석', 'author': '박해선', 'year': 2022}\n",
            "d4[1] : {'name': '혼자 공부하는 머신러닝+딥러닝', 'author': '박해선', 'year': 2020}\n"
          ]
        }
      ]
    },
    {
      "cell_type": "code",
      "source": [
        "import pandas as pd # 판다스 라이브러리 호출\n",
        "pd.read_json(d4_str) # 파이썬 객체를 데이터 프레임으로 변환하여 반환"
      ],
      "metadata": {
        "colab": {
          "base_uri": "https://localhost:8080/",
          "height": 112
        },
        "id": "bMOhLMlDK8Y7",
        "outputId": "c3b7ebfd-3475-4235-fd48-0c0750124115"
      },
      "execution_count": 59,
      "outputs": [
        {
          "output_type": "execute_result",
          "data": {
            "text/plain": [
              "               name author  year\n",
              "0    혼자 공부하는 데이터 분석    박해선  2022\n",
              "1  혼자 공부하는 머신러닝+딥러닝    박해선  2020"
            ],
            "text/html": [
              "\n",
              "  <div id=\"df-16c5ef70-af5b-4f0f-bd76-8103848660fd\">\n",
              "    <div class=\"colab-df-container\">\n",
              "      <div>\n",
              "<style scoped>\n",
              "    .dataframe tbody tr th:only-of-type {\n",
              "        vertical-align: middle;\n",
              "    }\n",
              "\n",
              "    .dataframe tbody tr th {\n",
              "        vertical-align: top;\n",
              "    }\n",
              "\n",
              "    .dataframe thead th {\n",
              "        text-align: right;\n",
              "    }\n",
              "</style>\n",
              "<table border=\"1\" class=\"dataframe\">\n",
              "  <thead>\n",
              "    <tr style=\"text-align: right;\">\n",
              "      <th></th>\n",
              "      <th>name</th>\n",
              "      <th>author</th>\n",
              "      <th>year</th>\n",
              "    </tr>\n",
              "  </thead>\n",
              "  <tbody>\n",
              "    <tr>\n",
              "      <th>0</th>\n",
              "      <td>혼자 공부하는 데이터 분석</td>\n",
              "      <td>박해선</td>\n",
              "      <td>2022</td>\n",
              "    </tr>\n",
              "    <tr>\n",
              "      <th>1</th>\n",
              "      <td>혼자 공부하는 머신러닝+딥러닝</td>\n",
              "      <td>박해선</td>\n",
              "      <td>2020</td>\n",
              "    </tr>\n",
              "  </tbody>\n",
              "</table>\n",
              "</div>\n",
              "      <button class=\"colab-df-convert\" onclick=\"convertToInteractive('df-16c5ef70-af5b-4f0f-bd76-8103848660fd')\"\n",
              "              title=\"Convert this dataframe to an interactive table.\"\n",
              "              style=\"display:none;\">\n",
              "        \n",
              "  <svg xmlns=\"http://www.w3.org/2000/svg\" height=\"24px\"viewBox=\"0 0 24 24\"\n",
              "       width=\"24px\">\n",
              "    <path d=\"M0 0h24v24H0V0z\" fill=\"none\"/>\n",
              "    <path d=\"M18.56 5.44l.94 2.06.94-2.06 2.06-.94-2.06-.94-.94-2.06-.94 2.06-2.06.94zm-11 1L8.5 8.5l.94-2.06 2.06-.94-2.06-.94L8.5 2.5l-.94 2.06-2.06.94zm10 10l.94 2.06.94-2.06 2.06-.94-2.06-.94-.94-2.06-.94 2.06-2.06.94z\"/><path d=\"M17.41 7.96l-1.37-1.37c-.4-.4-.92-.59-1.43-.59-.52 0-1.04.2-1.43.59L10.3 9.45l-7.72 7.72c-.78.78-.78 2.05 0 2.83L4 21.41c.39.39.9.59 1.41.59.51 0 1.02-.2 1.41-.59l7.78-7.78 2.81-2.81c.8-.78.8-2.07 0-2.86zM5.41 20L4 18.59l7.72-7.72 1.47 1.35L5.41 20z\"/>\n",
              "  </svg>\n",
              "      </button>\n",
              "      \n",
              "  <style>\n",
              "    .colab-df-container {\n",
              "      display:flex;\n",
              "      flex-wrap:wrap;\n",
              "      gap: 12px;\n",
              "    }\n",
              "\n",
              "    .colab-df-convert {\n",
              "      background-color: #E8F0FE;\n",
              "      border: none;\n",
              "      border-radius: 50%;\n",
              "      cursor: pointer;\n",
              "      display: none;\n",
              "      fill: #1967D2;\n",
              "      height: 32px;\n",
              "      padding: 0 0 0 0;\n",
              "      width: 32px;\n",
              "    }\n",
              "\n",
              "    .colab-df-convert:hover {\n",
              "      background-color: #E2EBFA;\n",
              "      box-shadow: 0px 1px 2px rgba(60, 64, 67, 0.3), 0px 1px 3px 1px rgba(60, 64, 67, 0.15);\n",
              "      fill: #174EA6;\n",
              "    }\n",
              "\n",
              "    [theme=dark] .colab-df-convert {\n",
              "      background-color: #3B4455;\n",
              "      fill: #D2E3FC;\n",
              "    }\n",
              "\n",
              "    [theme=dark] .colab-df-convert:hover {\n",
              "      background-color: #434B5C;\n",
              "      box-shadow: 0px 1px 3px 1px rgba(0, 0, 0, 0.15);\n",
              "      filter: drop-shadow(0px 1px 2px rgba(0, 0, 0, 0.3));\n",
              "      fill: #FFFFFF;\n",
              "    }\n",
              "  </style>\n",
              "\n",
              "      <script>\n",
              "        const buttonEl =\n",
              "          document.querySelector('#df-16c5ef70-af5b-4f0f-bd76-8103848660fd button.colab-df-convert');\n",
              "        buttonEl.style.display =\n",
              "          google.colab.kernel.accessAllowed ? 'block' : 'none';\n",
              "\n",
              "        async function convertToInteractive(key) {\n",
              "          const element = document.querySelector('#df-16c5ef70-af5b-4f0f-bd76-8103848660fd');\n",
              "          const dataTable =\n",
              "            await google.colab.kernel.invokeFunction('convertToInteractive',\n",
              "                                                     [key], {});\n",
              "          if (!dataTable) return;\n",
              "\n",
              "          const docLinkHtml = 'Like what you see? Visit the ' +\n",
              "            '<a target=\"_blank\" href=https://colab.research.google.com/notebooks/data_table.ipynb>data table notebook</a>'\n",
              "            + ' to learn more about interactive tables.';\n",
              "          element.innerHTML = '';\n",
              "          dataTable['output_type'] = 'display_data';\n",
              "          await google.colab.output.renderOutput(dataTable, element);\n",
              "          const docLink = document.createElement('div');\n",
              "          docLink.innerHTML = docLinkHtml;\n",
              "          element.appendChild(docLink);\n",
              "        }\n",
              "      </script>\n",
              "    </div>\n",
              "  </div>\n",
              "  "
            ]
          },
          "metadata": {},
          "execution_count": 59
        }
      ]
    },
    {
      "cell_type": "code",
      "source": [
        "import pandas as pd  # 판다스 라이브러리 호출출\n",
        "pd.DataFrame(d4) # json을 데이터 프레임으로 변환하여 반환"
      ],
      "metadata": {
        "colab": {
          "base_uri": "https://localhost:8080/",
          "height": 112
        },
        "id": "C8ma2o9GA-2s",
        "outputId": "401a993b-49b8-4039-d772-89ae6faff322"
      },
      "execution_count": 58,
      "outputs": [
        {
          "output_type": "execute_result",
          "data": {
            "text/plain": [
              "               name author  year\n",
              "0    혼자 공부하는 데이터 분석    박해선  2022\n",
              "1  혼자 공부하는 머신러닝+딥러닝    박해선  2020"
            ],
            "text/html": [
              "\n",
              "  <div id=\"df-520e5f5e-8c35-4983-8183-4a749b9e9404\">\n",
              "    <div class=\"colab-df-container\">\n",
              "      <div>\n",
              "<style scoped>\n",
              "    .dataframe tbody tr th:only-of-type {\n",
              "        vertical-align: middle;\n",
              "    }\n",
              "\n",
              "    .dataframe tbody tr th {\n",
              "        vertical-align: top;\n",
              "    }\n",
              "\n",
              "    .dataframe thead th {\n",
              "        text-align: right;\n",
              "    }\n",
              "</style>\n",
              "<table border=\"1\" class=\"dataframe\">\n",
              "  <thead>\n",
              "    <tr style=\"text-align: right;\">\n",
              "      <th></th>\n",
              "      <th>name</th>\n",
              "      <th>author</th>\n",
              "      <th>year</th>\n",
              "    </tr>\n",
              "  </thead>\n",
              "  <tbody>\n",
              "    <tr>\n",
              "      <th>0</th>\n",
              "      <td>혼자 공부하는 데이터 분석</td>\n",
              "      <td>박해선</td>\n",
              "      <td>2022</td>\n",
              "    </tr>\n",
              "    <tr>\n",
              "      <th>1</th>\n",
              "      <td>혼자 공부하는 머신러닝+딥러닝</td>\n",
              "      <td>박해선</td>\n",
              "      <td>2020</td>\n",
              "    </tr>\n",
              "  </tbody>\n",
              "</table>\n",
              "</div>\n",
              "      <button class=\"colab-df-convert\" onclick=\"convertToInteractive('df-520e5f5e-8c35-4983-8183-4a749b9e9404')\"\n",
              "              title=\"Convert this dataframe to an interactive table.\"\n",
              "              style=\"display:none;\">\n",
              "        \n",
              "  <svg xmlns=\"http://www.w3.org/2000/svg\" height=\"24px\"viewBox=\"0 0 24 24\"\n",
              "       width=\"24px\">\n",
              "    <path d=\"M0 0h24v24H0V0z\" fill=\"none\"/>\n",
              "    <path d=\"M18.56 5.44l.94 2.06.94-2.06 2.06-.94-2.06-.94-.94-2.06-.94 2.06-2.06.94zm-11 1L8.5 8.5l.94-2.06 2.06-.94-2.06-.94L8.5 2.5l-.94 2.06-2.06.94zm10 10l.94 2.06.94-2.06 2.06-.94-2.06-.94-.94-2.06-.94 2.06-2.06.94z\"/><path d=\"M17.41 7.96l-1.37-1.37c-.4-.4-.92-.59-1.43-.59-.52 0-1.04.2-1.43.59L10.3 9.45l-7.72 7.72c-.78.78-.78 2.05 0 2.83L4 21.41c.39.39.9.59 1.41.59.51 0 1.02-.2 1.41-.59l7.78-7.78 2.81-2.81c.8-.78.8-2.07 0-2.86zM5.41 20L4 18.59l7.72-7.72 1.47 1.35L5.41 20z\"/>\n",
              "  </svg>\n",
              "      </button>\n",
              "      \n",
              "  <style>\n",
              "    .colab-df-container {\n",
              "      display:flex;\n",
              "      flex-wrap:wrap;\n",
              "      gap: 12px;\n",
              "    }\n",
              "\n",
              "    .colab-df-convert {\n",
              "      background-color: #E8F0FE;\n",
              "      border: none;\n",
              "      border-radius: 50%;\n",
              "      cursor: pointer;\n",
              "      display: none;\n",
              "      fill: #1967D2;\n",
              "      height: 32px;\n",
              "      padding: 0 0 0 0;\n",
              "      width: 32px;\n",
              "    }\n",
              "\n",
              "    .colab-df-convert:hover {\n",
              "      background-color: #E2EBFA;\n",
              "      box-shadow: 0px 1px 2px rgba(60, 64, 67, 0.3), 0px 1px 3px 1px rgba(60, 64, 67, 0.15);\n",
              "      fill: #174EA6;\n",
              "    }\n",
              "\n",
              "    [theme=dark] .colab-df-convert {\n",
              "      background-color: #3B4455;\n",
              "      fill: #D2E3FC;\n",
              "    }\n",
              "\n",
              "    [theme=dark] .colab-df-convert:hover {\n",
              "      background-color: #434B5C;\n",
              "      box-shadow: 0px 1px 3px 1px rgba(0, 0, 0, 0.15);\n",
              "      filter: drop-shadow(0px 1px 2px rgba(0, 0, 0, 0.3));\n",
              "      fill: #FFFFFF;\n",
              "    }\n",
              "  </style>\n",
              "\n",
              "      <script>\n",
              "        const buttonEl =\n",
              "          document.querySelector('#df-520e5f5e-8c35-4983-8183-4a749b9e9404 button.colab-df-convert');\n",
              "        buttonEl.style.display =\n",
              "          google.colab.kernel.accessAllowed ? 'block' : 'none';\n",
              "\n",
              "        async function convertToInteractive(key) {\n",
              "          const element = document.querySelector('#df-520e5f5e-8c35-4983-8183-4a749b9e9404');\n",
              "          const dataTable =\n",
              "            await google.colab.kernel.invokeFunction('convertToInteractive',\n",
              "                                                     [key], {});\n",
              "          if (!dataTable) return;\n",
              "\n",
              "          const docLinkHtml = 'Like what you see? Visit the ' +\n",
              "            '<a target=\"_blank\" href=https://colab.research.google.com/notebooks/data_table.ipynb>data table notebook</a>'\n",
              "            + ' to learn more about interactive tables.';\n",
              "          element.innerHTML = '';\n",
              "          dataTable['output_type'] = 'display_data';\n",
              "          await google.colab.output.renderOutput(dataTable, element);\n",
              "          const docLink = document.createElement('div');\n",
              "          docLink.innerHTML = docLinkHtml;\n",
              "          element.appendChild(docLink);\n",
              "        }\n",
              "      </script>\n",
              "    </div>\n",
              "  </div>\n",
              "  "
            ]
          },
          "metadata": {},
          "execution_count": 58
        }
      ]
    },
    {
      "cell_type": "code",
      "source": [
        "x_str = \"\"\"\n",
        "<book>\n",
        "  <name>혼자 공부하는 데이터 분석</name>\n",
        "  <author>박해선</author>\n",
        "  <year>2022</year>\n",
        "</book>\n",
        "\"\"\"\n",
        "x_str # xml"
      ],
      "metadata": {
        "colab": {
          "base_uri": "https://localhost:8080/",
          "height": 36
        },
        "id": "E5knG9JsLw65",
        "outputId": "b486afce-313d-4f8d-a87f-3cd2131ea20d"
      },
      "execution_count": 64,
      "outputs": [
        {
          "output_type": "execute_result",
          "data": {
            "text/plain": [
              "'\\n<book>\\n  <name>혼자 공부하는 데이터 분석</name>\\n  <author>박해선</author>\\n  <year>2022</year>\\n</book>\\n'"
            ],
            "application/vnd.google.colaboratory.intrinsic+json": {
              "type": "string"
            }
          },
          "metadata": {},
          "execution_count": 64
        }
      ]
    },
    {
      "cell_type": "code",
      "source": [
        "import xml.etree.ElementTree as et # xml 관련 라이브러리 호출\n",
        "book = et.fromstring(x_str)\n",
        "print(f'type : {type(book)}\\ntag : {book.tag}\\nbook : {book}')"
      ],
      "metadata": {
        "colab": {
          "base_uri": "https://localhost:8080/"
        },
        "id": "cm1nRBb8Lw9r",
        "outputId": "d2528b6e-974a-4b95-9e2d-00d667ff9251"
      },
      "execution_count": 68,
      "outputs": [
        {
          "output_type": "stream",
          "name": "stdout",
          "text": [
            "type : <class 'xml.etree.ElementTree.Element'>\n",
            "tag : book\n",
            "book : <Element 'book' at 0x7f07fc2313b0>\n"
          ]
        }
      ]
    },
    {
      "cell_type": "code",
      "source": [
        "book_childs = list(book) # 리스트화\n",
        "book_childs"
      ],
      "metadata": {
        "colab": {
          "base_uri": "https://localhost:8080/"
        },
        "id": "3j0klQckLxAY",
        "outputId": "1d485e27-063b-4be6-81ec-6d6c0baa2160"
      },
      "execution_count": 69,
      "outputs": [
        {
          "output_type": "execute_result",
          "data": {
            "text/plain": [
              "[<Element 'name' at 0x7f07fc231630>,\n",
              " <Element 'author' at 0x7f07fc2312c0>,\n",
              " <Element 'year' at 0x7f07fc2383b0>]"
            ]
          },
          "metadata": {},
          "execution_count": 69
        }
      ]
    },
    {
      "cell_type": "code",
      "source": [
        "name = book.findtext('name') # 자식 엘리멘트를 탐색하여 값을 반환\n",
        "author = book.findtext('author') # 자식 엘리멘트를 탐색하여 값을 반환\n",
        "year = book.findtext('year') # 자식 엘리멘트를 탐색하여 값을 반환\n",
        "print(f'name : {name}\\nauthor : {author}\\nyear : {year}')"
      ],
      "metadata": {
        "colab": {
          "base_uri": "https://localhost:8080/"
        },
        "id": "1wvovYuaLxC9",
        "outputId": "1d107532-7c85-4117-af51-d6dc317cc821"
      },
      "execution_count": 72,
      "outputs": [
        {
          "output_type": "stream",
          "name": "stdout",
          "text": [
            "name : 혼자 공부하는 데이터 분석\n",
            "author : 박해선\n",
            "year : 2022\n"
          ]
        }
      ]
    },
    {
      "cell_type": "code",
      "source": [
        "x2_str = \"\"\"\n",
        "<books>\n",
        "  <book>\n",
        "    <name>혼자 공부하는 데이터 분석</name>\n",
        "    <author>박해선</author>\n",
        "    <year>2022</year>\n",
        "  </book> \n",
        "  <book>\n",
        "    <name>혼자 공부하는 머신러닝+딥러닝</name>\n",
        "    <author>박해선</author>\n",
        "    <year>2020</year>\n",
        "  </book> \n",
        "</books>\n",
        "\"\"\"\n",
        "x2_str # xml"
      ],
      "metadata": {
        "colab": {
          "base_uri": "https://localhost:8080/",
          "height": 54
        },
        "id": "u6CYYyAPQRp2",
        "outputId": "1df9b458-b58c-443b-a1b6-1a6bce3563d6"
      },
      "execution_count": 82,
      "outputs": [
        {
          "output_type": "execute_result",
          "data": {
            "text/plain": [
              "'\\n<books>\\n  <book>\\n    <name>혼자 공부하는 데이터 분석</name>\\n    <author>박해선</author>\\n    <year>2022</year>\\n  </book> \\n  <book>\\n    <name>혼자 공부하는 머신러닝+딥러닝</name>\\n    <author>박해선</author>\\n    <year>2020</year>\\n  </book> \\n</books>\\n'"
            ],
            "application/vnd.google.colaboratory.intrinsic+json": {
              "type": "string"
            }
          },
          "metadata": {},
          "execution_count": 82
        }
      ]
    },
    {
      "cell_type": "code",
      "source": [
        "import xml.etree.ElementTree as et # xml 관련 라이브러리 호출\n",
        "books = et.fromstring(x2_str)\n",
        "print(f'type : {type(books)}\\ntag : {books.tag}\\nbook : {books}')"
      ],
      "metadata": {
        "colab": {
          "base_uri": "https://localhost:8080/"
        },
        "id": "0MsgKGoGPmHP",
        "outputId": "628642db-5f8f-498a-c26c-41749fea676e"
      },
      "execution_count": 84,
      "outputs": [
        {
          "output_type": "stream",
          "name": "stdout",
          "text": [
            "type : <class 'xml.etree.ElementTree.Element'>\n",
            "tag : books\n",
            "book : <Element 'books' at 0x7f07fc7e2130>\n"
          ]
        }
      ]
    },
    {
      "cell_type": "code",
      "source": [
        "for book in books.findall('book'):\n",
        "  name = book.findtext('name') # 자식 엘리멘트를 탐색하여 값을 반환\n",
        "  author = book.findtext('author') # 자식 엘리멘트를 탐색하여 값을 반환\n",
        "  year = book.findtext('year') # 자식 엘리멘트를 탐색하여 값을 반환\n",
        "  print(f'{book}\\nname : {name}\\nauthor : {author}\\nyear : {year}\\n')"
      ],
      "metadata": {
        "colab": {
          "base_uri": "https://localhost:8080/"
        },
        "id": "TgvXaohOPmJ9",
        "outputId": "35b437fb-8416-4e19-e0a1-2756a6656227"
      },
      "execution_count": 88,
      "outputs": [
        {
          "output_type": "stream",
          "name": "stdout",
          "text": [
            "<Element 'book' at 0x7f07fc7e2040>\n",
            "name : 혼자 공부하는 데이터 분석\n",
            "author : 박해선\n",
            "year : 2022\n",
            "\n",
            "<Element 'book' at 0x7f07fc7c6d60>\n",
            "name : 혼자 공부하는 머신러닝+딥러닝\n",
            "author : 박해선\n",
            "year : 2020\n",
            "\n"
          ]
        }
      ]
    },
    {
      "cell_type": "code",
      "source": [
        "import pandas as pd # 판다스 라이브러리 호출\n",
        "pd.read_xml(x2_str) # xml를 데이터 프레임으로 변환하여 반환"
      ],
      "metadata": {
        "colab": {
          "base_uri": "https://localhost:8080/",
          "height": 112
        },
        "id": "KNFwGF2gPmMX",
        "outputId": "d2606573-32f9-40c1-96fd-94e5754f3827"
      },
      "execution_count": 89,
      "outputs": [
        {
          "output_type": "execute_result",
          "data": {
            "text/plain": [
              "               name author  year\n",
              "0    혼자 공부하는 데이터 분석    박해선  2022\n",
              "1  혼자 공부하는 머신러닝+딥러닝    박해선  2020"
            ],
            "text/html": [
              "\n",
              "  <div id=\"df-dfb747ce-d4cf-4817-9316-e3b594595125\">\n",
              "    <div class=\"colab-df-container\">\n",
              "      <div>\n",
              "<style scoped>\n",
              "    .dataframe tbody tr th:only-of-type {\n",
              "        vertical-align: middle;\n",
              "    }\n",
              "\n",
              "    .dataframe tbody tr th {\n",
              "        vertical-align: top;\n",
              "    }\n",
              "\n",
              "    .dataframe thead th {\n",
              "        text-align: right;\n",
              "    }\n",
              "</style>\n",
              "<table border=\"1\" class=\"dataframe\">\n",
              "  <thead>\n",
              "    <tr style=\"text-align: right;\">\n",
              "      <th></th>\n",
              "      <th>name</th>\n",
              "      <th>author</th>\n",
              "      <th>year</th>\n",
              "    </tr>\n",
              "  </thead>\n",
              "  <tbody>\n",
              "    <tr>\n",
              "      <th>0</th>\n",
              "      <td>혼자 공부하는 데이터 분석</td>\n",
              "      <td>박해선</td>\n",
              "      <td>2022</td>\n",
              "    </tr>\n",
              "    <tr>\n",
              "      <th>1</th>\n",
              "      <td>혼자 공부하는 머신러닝+딥러닝</td>\n",
              "      <td>박해선</td>\n",
              "      <td>2020</td>\n",
              "    </tr>\n",
              "  </tbody>\n",
              "</table>\n",
              "</div>\n",
              "      <button class=\"colab-df-convert\" onclick=\"convertToInteractive('df-dfb747ce-d4cf-4817-9316-e3b594595125')\"\n",
              "              title=\"Convert this dataframe to an interactive table.\"\n",
              "              style=\"display:none;\">\n",
              "        \n",
              "  <svg xmlns=\"http://www.w3.org/2000/svg\" height=\"24px\"viewBox=\"0 0 24 24\"\n",
              "       width=\"24px\">\n",
              "    <path d=\"M0 0h24v24H0V0z\" fill=\"none\"/>\n",
              "    <path d=\"M18.56 5.44l.94 2.06.94-2.06 2.06-.94-2.06-.94-.94-2.06-.94 2.06-2.06.94zm-11 1L8.5 8.5l.94-2.06 2.06-.94-2.06-.94L8.5 2.5l-.94 2.06-2.06.94zm10 10l.94 2.06.94-2.06 2.06-.94-2.06-.94-.94-2.06-.94 2.06-2.06.94z\"/><path d=\"M17.41 7.96l-1.37-1.37c-.4-.4-.92-.59-1.43-.59-.52 0-1.04.2-1.43.59L10.3 9.45l-7.72 7.72c-.78.78-.78 2.05 0 2.83L4 21.41c.39.39.9.59 1.41.59.51 0 1.02-.2 1.41-.59l7.78-7.78 2.81-2.81c.8-.78.8-2.07 0-2.86zM5.41 20L4 18.59l7.72-7.72 1.47 1.35L5.41 20z\"/>\n",
              "  </svg>\n",
              "      </button>\n",
              "      \n",
              "  <style>\n",
              "    .colab-df-container {\n",
              "      display:flex;\n",
              "      flex-wrap:wrap;\n",
              "      gap: 12px;\n",
              "    }\n",
              "\n",
              "    .colab-df-convert {\n",
              "      background-color: #E8F0FE;\n",
              "      border: none;\n",
              "      border-radius: 50%;\n",
              "      cursor: pointer;\n",
              "      display: none;\n",
              "      fill: #1967D2;\n",
              "      height: 32px;\n",
              "      padding: 0 0 0 0;\n",
              "      width: 32px;\n",
              "    }\n",
              "\n",
              "    .colab-df-convert:hover {\n",
              "      background-color: #E2EBFA;\n",
              "      box-shadow: 0px 1px 2px rgba(60, 64, 67, 0.3), 0px 1px 3px 1px rgba(60, 64, 67, 0.15);\n",
              "      fill: #174EA6;\n",
              "    }\n",
              "\n",
              "    [theme=dark] .colab-df-convert {\n",
              "      background-color: #3B4455;\n",
              "      fill: #D2E3FC;\n",
              "    }\n",
              "\n",
              "    [theme=dark] .colab-df-convert:hover {\n",
              "      background-color: #434B5C;\n",
              "      box-shadow: 0px 1px 3px 1px rgba(0, 0, 0, 0.15);\n",
              "      filter: drop-shadow(0px 1px 2px rgba(0, 0, 0, 0.3));\n",
              "      fill: #FFFFFF;\n",
              "    }\n",
              "  </style>\n",
              "\n",
              "      <script>\n",
              "        const buttonEl =\n",
              "          document.querySelector('#df-dfb747ce-d4cf-4817-9316-e3b594595125 button.colab-df-convert');\n",
              "        buttonEl.style.display =\n",
              "          google.colab.kernel.accessAllowed ? 'block' : 'none';\n",
              "\n",
              "        async function convertToInteractive(key) {\n",
              "          const element = document.querySelector('#df-dfb747ce-d4cf-4817-9316-e3b594595125');\n",
              "          const dataTable =\n",
              "            await google.colab.kernel.invokeFunction('convertToInteractive',\n",
              "                                                     [key], {});\n",
              "          if (!dataTable) return;\n",
              "\n",
              "          const docLinkHtml = 'Like what you see? Visit the ' +\n",
              "            '<a target=\"_blank\" href=https://colab.research.google.com/notebooks/data_table.ipynb>data table notebook</a>'\n",
              "            + ' to learn more about interactive tables.';\n",
              "          element.innerHTML = '';\n",
              "          dataTable['output_type'] = 'display_data';\n",
              "          await google.colab.output.renderOutput(dataTable, element);\n",
              "          const docLink = document.createElement('div');\n",
              "          docLink.innerHTML = docLinkHtml;\n",
              "          element.appendChild(docLink);\n",
              "        }\n",
              "      </script>\n",
              "    </div>\n",
              "  </div>\n",
              "  "
            ]
          },
          "metadata": {},
          "execution_count": 89
        }
      ]
    }
  ]
}