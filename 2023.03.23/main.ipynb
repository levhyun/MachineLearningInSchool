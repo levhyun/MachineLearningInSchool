{
 "cells": [
  {
   "cell_type": "code",
   "execution_count": 2,
   "metadata": {},
   "outputs": [
    {
     "name": "stdout",
     "output_type": "stream",
     "text": [
      "홍길동\n",
      "\n",
      "일지매\n",
      "\n",
      "전우치\n",
      "\n",
      "강감찬\n",
      "\n",
      "신사임당\n",
      "\n",
      "\n",
      "\n",
      "모든 행이 출력 되었습니다.\n"
     ]
    }
   ],
   "source": [
    "# 파일 읽어 출력\n",
    "try:\n",
    "    list = []\n",
    "    with open('예외처리연습.txt', 'r') as f:    \n",
    "        for s in f:    \n",
    "            list.append(s.strip('\\n'))\n",
    "    index = int(input('몇 건을 출력할까요?: '))\n",
    "    for i in range(0, index):\n",
    "        print(f'{list[i]}\\n')\n",
    "except IndexError:\n",
    "    print('\\n\\n모든 행이 출력 되었습니다.')"
   ]
  },
  {
   "cell_type": "code",
   "execution_count": 14,
   "metadata": {},
   "outputs": [
    {
     "name": "stdout",
     "output_type": "stream",
     "text": [
      "blog.naver.com 의 갯수는 모두 3 개입니다.\n"
     ]
    }
   ],
   "source": [
    "# naver.com\n",
    "list = []\n",
    "with open('url.txt', 'r') as f:    \n",
    "    for i in f:    \n",
    "        list.append(i.strip('\\n'))\n",
    "\n",
    "res = []\n",
    "for i in list:\n",
    "    temp = i.split('/')\n",
    "    res.append(temp)\n",
    "\n",
    "cnt = 0\n",
    "for i in res:\n",
    "    if i[2] == 'blog.naver.com':\n",
    "        cnt += 1\n",
    "\n",
    "print(f'blog.naver.com 의 갯수는 모두 {cnt} 개입니다.')"
   ]
  }
 ],
 "metadata": {
  "kernelspec": {
   "display_name": "base",
   "language": "python",
   "name": "python3"
  },
  "language_info": {
   "codemirror_mode": {
    "name": "ipython",
    "version": 3
   },
   "file_extension": ".py",
   "mimetype": "text/x-python",
   "name": "python",
   "nbconvert_exporter": "python",
   "pygments_lexer": "ipython3",
   "version": "3.9.13"
  },
  "orig_nbformat": 4
 },
 "nbformat": 4,
 "nbformat_minor": 2
}
